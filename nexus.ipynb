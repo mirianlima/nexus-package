{
 "cells": [
  {
   "cell_type": "code",
   "execution_count": 1,
   "id": "02016be2",
   "metadata": {},
   "outputs": [],
   "source": [
    "import pandas as pd\n",
    "import altair as alt\n",
    "from pathlib import Path\n",
    "import polars as pl\n",
    "import tools as nx\n",
    "import yaml\n",
    "#from utils import load_config\n"
   ]
  },
  {
   "cell_type": "markdown",
   "id": "062bba6c",
   "metadata": {},
   "source": [
    "## Force reload tools"
   ]
  },
  {
   "cell_type": "code",
   "execution_count": 2,
   "id": "c5e4f123",
   "metadata": {},
   "outputs": [
    {
     "name": "stdout",
     "output_type": "stream",
     "text": [
      "/Users/osaa/Documents/code/nexus-package/tools/__init__.py\n",
      "['__all__', '__builtins__', '__cached__', '__doc__', '__file__', '__loader__', '__name__', '__package__', '__path__', '__spec__', 'datamap', 'filter_pivot']\n"
     ]
    }
   ],
   "source": [
    "import importlib\n",
    "importlib.reload(nx)\n",
    "print(nx.__file__)\n",
    "print(dir(nx))"
   ]
  },
  {
   "cell_type": "markdown",
   "id": "5895b576",
   "metadata": {},
   "source": [
    "## Setup"
   ]
  },
  {
   "cell_type": "code",
   "execution_count": 3,
   "id": "45a9b716",
   "metadata": {},
   "outputs": [
    {
     "data": {
      "text/plain": [
       "polars.config.Config"
      ]
     },
     "execution_count": 3,
     "metadata": {},
     "output_type": "execute_result"
    }
   ],
   "source": [
    "# 1. Load configuration\n",
    "with open(\"config.yaml\") as f:\n",
    "    config = yaml.safe_load(f)\n",
    "\n",
    "# 2. Project Paths\n",
    "PROJECT_ROOT = Path.cwd()\n",
    "DATA_PATH    = PROJECT_ROOT / config[\"data\"][\"nexus_path\"]\n",
    "\n",
    "# 3. Query settings\n",
    "INDEX_COLS      = config[\"query\"][\"index_columns\"]\n",
    "SOURCE_META     = config[\"query\"][\"source_metadata_columns\"]\n",
    "IND_META        = config[\"query\"][\"indicator_metadata_columns\"]\n",
    "COUNTRY_CLASSES = config[\"query\"][\"country_classification_columns\"]\n",
    "\n",
    "# 4. Altair transformer\n",
    "alt.data_transformers.enable('default', max_rows=None)\n",
    "\n",
    "# 5. Polars table display\n",
    "pl.Config.set_tbl_rows(-1)  # Show all rows\n",
    "pl.Config.set_tbl_cols(-1)  # Show all columns"
   ]
  },
  {
   "cell_type": "code",
   "execution_count": 4,
   "id": "4f73bfdb",
   "metadata": {},
   "outputs": [],
   "source": [
    "# 1️⃣ Lazy‑load the Parquet into a LazyFrame\n",
    "nexus = (\n",
    "    pl.scan_parquet(DATA_PATH)\n",
    "    .rename({\"country_or_area\": \"country\"})\n",
    "    .with_columns(\n",
    "        pl.when(pl.col(\"high_income\") == \"High income\")\n",
    "        .then(pl.lit(\"High Income\"))\n",
    "        .when(pl.col(\"upper_middle_income\") == \"Upper middle income\")\n",
    "        .then(pl.lit(\"Upper Middle Income\"))\n",
    "        .when(pl.col(\"lower_middle_income\") == \"Lower middle income\")\n",
    "        .then(pl.lit(\"Lower Middle Income\"))\n",
    "        .when(pl.col(\"low_income\") == \"Low income\")\n",
    "        .then(pl.lit(\"Low Income\"))\n",
    "        .otherwise(None)\n",
    "        .cast(pl.Categorical)\n",
    "        .alias(\"income_level\")\n",
    "    )\n",
    ")"
   ]
  },
  {
   "cell_type": "markdown",
   "id": "2959bb69",
   "metadata": {},
   "source": [
    "Testing the income_level classification"
   ]
  },
  {
   "cell_type": "code",
   "execution_count": 5,
   "id": "e3f0e051",
   "metadata": {},
   "outputs": [
    {
     "name": "stdout",
     "output_type": "stream",
     "text": [
      "shape: (4, 6)\n",
      "┌────────────┬──────────────┬─────────────┬─────────────────────┬─────────────────────┬────────────┐\n",
      "│ country    ┆ income_level ┆ high_income ┆ upper_middle_income ┆ lower_middle_income ┆ low_income │\n",
      "│ ---        ┆ ---          ┆ ---         ┆ ---                 ┆ ---                 ┆ ---        │\n",
      "│ str        ┆ cat          ┆ str         ┆ str                 ┆ str                 ┆ str        │\n",
      "╞════════════╪══════════════╪═════════════╪═════════════════════╪═════════════════════╪════════════╡\n",
      "│ China      ┆ Upper Middle ┆ null        ┆ Upper middle income ┆ null                ┆ null       │\n",
      "│            ┆ Income       ┆             ┆                     ┆                     ┆            │\n",
      "│ Nigeria    ┆ Lower Middle ┆ null        ┆ null                ┆ Lower middle income ┆ null       │\n",
      "│            ┆ Income       ┆             ┆                     ┆                     ┆            │\n",
      "│ Brazil     ┆ Upper Middle ┆ null        ┆ Upper middle income ┆ null                ┆ null       │\n",
      "│            ┆ Income       ┆             ┆                     ┆                     ┆            │\n",
      "│ Bangladesh ┆ Lower Middle ┆ null        ┆ null                ┆ Lower middle income ┆ null       │\n",
      "│            ┆ Income       ┆             ┆                     ┆                     ┆            │\n",
      "└────────────┴──────────────┴─────────────┴─────────────────────┴─────────────────────┴────────────┘\n",
      "\n",
      "Income Level Distribution:\n",
      "shape: (5, 2)\n",
      "┌─────────────────────┬────────┐\n",
      "│ income_level        ┆ count  │\n",
      "│ ---                 ┆ ---    │\n",
      "│ cat                 ┆ u32    │\n",
      "╞═════════════════════╪════════╡\n",
      "│ High Income         ┆ 193793 │\n",
      "│ Lower Middle Income ┆ 169523 │\n",
      "│ Upper Middle Income ┆ 159251 │\n",
      "│ Low Income          ┆ 73566  │\n",
      "│ null                ┆ 20276  │\n",
      "└─────────────────────┴────────┘\n"
     ]
    }
   ],
   "source": [
    "# Check income_level for a sample of countries\n",
    "test_countries = [\"United States\", \"China\", \"Nigeria\", \"Bangladesh\", \"Brazil\"]\n",
    "\n",
    "income_check = (\n",
    "    nexus\n",
    "    .filter(pl.col(\"country\").is_in(test_countries))\n",
    "    .select([\"country\", \"income_level\", \"high_income\", \"upper_middle_income\", \"lower_middle_income\", \"low_income\"])\n",
    "    .unique([\"country\"])\n",
    "    .collect()\n",
    ")\n",
    "\n",
    "print(income_check)\n",
    "\n",
    "# Also check the distribution of income levels\n",
    "income_distribution = (\n",
    "    nexus\n",
    "    .select(\"income_level\")\n",
    "    .group_by(\"income_level\")\n",
    "    .agg(pl.len().alias(\"count\"))\n",
    "    .collect()\n",
    ")\n",
    "\n",
    "print(\"\\nIncome Level Distribution:\")\n",
    "print(income_distribution.sort(\"count\", descending=True))"
   ]
  },
  {
   "cell_type": "code",
   "execution_count": 6,
   "id": "768852fd",
   "metadata": {},
   "outputs": [
    {
     "name": "stdout",
     "output_type": "stream",
     "text": [
      "Number of distinct countries with null income_level: 27\n",
      "\n",
      "Countries with null income_level:\n",
      "shape: (27, 1)\n",
      "┌─────────────────────────────────┐\n",
      "│ country                         │\n",
      "│ ---                             │\n",
      "│ str                             │\n",
      "╞═════════════════════════════════╡\n",
      "│ null                            │\n",
      "│ Anguilla                        │\n",
      "│ Bonaire, Sint Eustatius and Sa… │\n",
      "│ Bouvet Island                   │\n",
      "│ Christmas Island                │\n",
      "│ Cocos (Keeling) Islands         │\n",
      "│ Cook Islands                    │\n",
      "│ Falkland Islands (Malvinas)     │\n",
      "│ French Guiana                   │\n",
      "│ Guadeloupe                      │\n",
      "│ Guernsey                        │\n",
      "│ Heard Island and McDonald Isla… │\n",
      "│ Holy See                        │\n",
      "│ Jersey                          │\n",
      "│ Martinique                      │\n",
      "│ Montserrat                      │\n",
      "│ Namibia                         │\n",
      "│ Niue                            │\n",
      "│ Norfolk Island                  │\n",
      "│ Pitcairn                        │\n",
      "│ Saint Pierre and Miquelon       │\n",
      "│ South Georgia and the South Sa… │\n",
      "│ Svalbard and Jan Mayen Islands  │\n",
      "│ Tokelau                         │\n",
      "│ United States Minor Outlying I… │\n",
      "│ Venezuela (Bolivarian Republic… │\n",
      "│ Wallis and Futuna Islands       │\n",
      "└─────────────────────────────────┘\n"
     ]
    }
   ],
   "source": [
    "# Count distinct countries with null income_level\n",
    "null_income_countries = (\n",
    "   nexus\n",
    "   .filter(pl.col(\"income_level\").is_null())\n",
    "   .select(pl.col(\"country\").n_unique())\n",
    "   .collect()\n",
    "   .item()\n",
    ")\n",
    "\n",
    "print(f\"Number of distinct countries with null income_level: {null_income_countries}\")\n",
    "\n",
    "# Optionally, see which countries have null income_level\n",
    "countries_with_null_income = (\n",
    "   nexus\n",
    "   .filter(pl.col(\"income_level\").is_null())\n",
    "   .select(\"country\")\n",
    "   .unique()\n",
    "   .collect()\n",
    "   .sort(\"country\")\n",
    ")\n",
    "\n",
    "print(f\"\\nCountries with null income_level:\")\n",
    "print(countries_with_null_income)\n",
    "# countries_with_null_income.write_csv(\"countries_with_null_income.csv\")"
   ]
  },
  {
   "cell_type": "markdown",
   "id": "c53bfc20",
   "metadata": {},
   "source": [
    "# NEXUS OBT"
   ]
  },
  {
   "cell_type": "code",
   "execution_count": 15,
   "id": "0bbd3e3f",
   "metadata": {},
   "outputs": [
    {
     "name": "stdout",
     "output_type": "stream",
     "text": [
      "Schema({'year': Int64, 'value': Float64, 'source': String, 'indicator_code': String, 'indicator_label': String, 'database': String, 'collection': String, 'value_meta': String, 'global_code': Float64, 'global_name': String, 'region_code': Float64, 'region_name': String, 'sub_region_code': Float64, 'sub_region_name': String, 'intermediate_region_code': Float64, 'intermediate_region_name': String, 'country': String, 'm49': Float64, 'iso2': String, 'iso3': String, 'least_developed_countries_ldc': String, 'land_locked_developing_countries_lldc': String, 'small_island_developing_states_sids': String, 'arab_states': String, 'fragile_and_conflict_affected_situations': String, 'hipc': String, 'high_income': String, 'low_income': String, 'lower_middle_income': String, 'oecd_member': String, 'small_state': String, 'ldc_transit_countries': String, 'upper_middle_income': String, 'oil_exporting_countries': String})\n"
     ]
    }
   ],
   "source": [
    "# 2️⃣ “.info()” → inspect the schema without fetching all the data:\n",
    "schema = nexus.collect_schema()\n",
    "print(schema)  "
   ]
  },
  {
   "cell_type": "markdown",
   "id": "9d7db21f",
   "metadata": {},
   "source": [
    "Or the full collect shabang"
   ]
  },
  {
   "cell_type": "code",
   "execution_count": 16,
   "id": "d5031eb2",
   "metadata": {},
   "outputs": [
    {
     "name": "stdout",
     "output_type": "stream",
     "text": [
      "(616409, 34)\n",
      "[Int64, Float64, String, String, String, String, String, String, Float64, String, Float64, String, Float64, String, Float64, String, String, Float64, String, String, String, String, String, String, String, String, String, String, String, String, String, String, String, String]\n"
     ]
    },
    {
     "data": {
      "text/html": [
       "<div><style>\n",
       ".dataframe > thead > tr,\n",
       ".dataframe > tbody > tr {\n",
       "  text-align: right;\n",
       "  white-space: pre-wrap;\n",
       "}\n",
       "</style>\n",
       "<small>shape: (9, 35)</small><table border=\"1\" class=\"dataframe\"><thead><tr><th>statistic</th><th>year</th><th>value</th><th>source</th><th>indicator_code</th><th>indicator_label</th><th>database</th><th>collection</th><th>value_meta</th><th>global_code</th><th>global_name</th><th>region_code</th><th>region_name</th><th>sub_region_code</th><th>sub_region_name</th><th>intermediate_region_code</th><th>intermediate_region_name</th><th>country</th><th>m49</th><th>iso2</th><th>iso3</th><th>least_developed_countries_ldc</th><th>land_locked_developing_countries_lldc</th><th>small_island_developing_states_sids</th><th>arab_states</th><th>fragile_and_conflict_affected_situations</th><th>hipc</th><th>high_income</th><th>low_income</th><th>lower_middle_income</th><th>oecd_member</th><th>small_state</th><th>ldc_transit_countries</th><th>upper_middle_income</th><th>oil_exporting_countries</th></tr><tr><td>str</td><td>f64</td><td>f64</td><td>str</td><td>str</td><td>str</td><td>str</td><td>str</td><td>str</td><td>f64</td><td>str</td><td>f64</td><td>str</td><td>f64</td><td>str</td><td>f64</td><td>str</td><td>str</td><td>f64</td><td>str</td><td>str</td><td>str</td><td>str</td><td>str</td><td>str</td><td>str</td><td>str</td><td>str</td><td>str</td><td>str</td><td>str</td><td>str</td><td>str</td><td>str</td><td>str</td></tr></thead><tbody><tr><td>&quot;count&quot;</td><td>616409.0</td><td>582793.0</td><td>&quot;616409&quot;</td><td>&quot;616409&quot;</td><td>&quot;616409&quot;</td><td>&quot;616409&quot;</td><td>&quot;616409&quot;</td><td>&quot;33928&quot;</td><td>603777.0</td><td>&quot;603777&quot;</td><td>603777.0</td><td>&quot;603777&quot;</td><td>603777.0</td><td>&quot;603777&quot;</td><td>256549.0</td><td>&quot;273893&quot;</td><td>&quot;603777&quot;</td><td>603777.0</td><td>&quot;600615&quot;</td><td>&quot;603777&quot;</td><td>&quot;126272&quot;</td><td>&quot;98110&quot;</td><td>&quot;101839&quot;</td><td>&quot;48563&quot;</td><td>&quot;94083&quot;</td><td>&quot;119838&quot;</td><td>&quot;193793&quot;</td><td>&quot;73566&quot;</td><td>&quot;169523&quot;</td><td>&quot;145856&quot;</td><td>&quot;128530&quot;</td><td>&quot;108092&quot;</td><td>&quot;159251&quot;</td><td>&quot;213860&quot;</td></tr><tr><td>&quot;null_count&quot;</td><td>0.0</td><td>33616.0</td><td>&quot;0&quot;</td><td>&quot;0&quot;</td><td>&quot;0&quot;</td><td>&quot;0&quot;</td><td>&quot;0&quot;</td><td>&quot;582481&quot;</td><td>12632.0</td><td>&quot;12632&quot;</td><td>12632.0</td><td>&quot;12632&quot;</td><td>12632.0</td><td>&quot;12632&quot;</td><td>359860.0</td><td>&quot;342516&quot;</td><td>&quot;12632&quot;</td><td>12632.0</td><td>&quot;15794&quot;</td><td>&quot;12632&quot;</td><td>&quot;490137&quot;</td><td>&quot;518299&quot;</td><td>&quot;514570&quot;</td><td>&quot;567846&quot;</td><td>&quot;522326&quot;</td><td>&quot;496571&quot;</td><td>&quot;422616&quot;</td><td>&quot;542843&quot;</td><td>&quot;446886&quot;</td><td>&quot;470553&quot;</td><td>&quot;487879&quot;</td><td>&quot;508317&quot;</td><td>&quot;457158&quot;</td><td>&quot;402549&quot;</td></tr><tr><td>&quot;mean&quot;</td><td>2006.26877</td><td>2.0173e12</td><td>null</td><td>null</td><td>null</td><td>null</td><td>null</td><td>null</td><td>1.0</td><td>null</td><td>73.835462</td><td>null</td><td>175.96159</td><td>null</td><td>14.791159</td><td>null</td><td>null</td><td>428.680016</td><td>null</td><td>null</td><td>null</td><td>null</td><td>null</td><td>null</td><td>null</td><td>null</td><td>null</td><td>null</td><td>null</td><td>null</td><td>null</td><td>null</td><td>null</td><td>null</td></tr><tr><td>&quot;std&quot;</td><td>11.425231</td><td>1.4523e14</td><td>null</td><td>null</td><td>null</td><td>null</td><td>null</td><td>null</td><td>0.0</td><td>null</td><td>68.703664</td><td>null</td><td>130.692135</td><td>null</td><td>7.140698</td><td>null</td><td>null</td><td>250.879051</td><td>null</td><td>null</td><td>null</td><td>null</td><td>null</td><td>null</td><td>null</td><td>null</td><td>null</td><td>null</td><td>null</td><td>null</td><td>null</td><td>null</td><td>null</td><td>null</td></tr><tr><td>&quot;min&quot;</td><td>1960.0</td><td>-4.4363e11</td><td>&quot;GFI&quot;</td><td>&quot;Academic qualifications (No. o…</td><td>&quot;Academic qualifications (No. o…</td><td>&quot;Collecting Taxes Database (CTD…</td><td>&quot;Audit and verification&quot;</td><td>&quot;..&quot;</td><td>1.0</td><td>&quot;World&quot;</td><td>2.0</td><td>&quot;Africa&quot;</td><td>15.0</td><td>&quot;Australia and New Zealand&quot;</td><td>5.0</td><td>&quot;Caribbean&quot;</td><td>&quot;Afghanistan&quot;</td><td>4.0</td><td>&quot;AD&quot;</td><td>&quot;ABW&quot;</td><td>&quot;Least Developed Countries (LDC…</td><td>&quot;Land Locked Developing Countri…</td><td>&quot;Small Island Developing States…</td><td>&quot;Arab states&quot;</td><td>&quot;Fragile and Conflict-Affected …</td><td>&quot;HIPC&quot;</td><td>&quot;High income&quot;</td><td>&quot;Low income&quot;</td><td>&quot;Lower middle income&quot;</td><td>&quot;OECD member&quot;</td><td>&quot;Small_state&quot;</td><td>&quot;Transit countries&quot;</td><td>&quot;Upper middle income&quot;</td><td>&quot;Oil Exporting&quot;</td></tr><tr><td>&quot;25%&quot;</td><td>1999.0</td><td>1.0</td><td>null</td><td>null</td><td>null</td><td>null</td><td>null</td><td>null</td><td>1.0</td><td>null</td><td>2.0</td><td>null</td><td>39.0</td><td>null</td><td>11.0</td><td>null</td><td>null</td><td>208.0</td><td>null</td><td>null</td><td>null</td><td>null</td><td>null</td><td>null</td><td>null</td><td>null</td><td>null</td><td>null</td><td>null</td><td>null</td><td>null</td><td>null</td><td>null</td><td>null</td></tr><tr><td>&quot;50%&quot;</td><td>2008.0</td><td>6.516388</td><td>null</td><td>null</td><td>null</td><td>null</td><td>null</td><td>null</td><td>1.0</td><td>null</td><td>19.0</td><td>null</td><td>154.0</td><td>null</td><td>14.0</td><td>null</td><td>null</td><td>426.0</td><td>null</td><td>null</td><td>null</td><td>null</td><td>null</td><td>null</td><td>null</td><td>null</td><td>null</td><td>null</td><td>null</td><td>null</td><td>null</td><td>null</td><td>null</td><td>null</td></tr><tr><td>&quot;75%&quot;</td><td>2016.0</td><td>45.0</td><td>null</td><td>null</td><td>null</td><td>null</td><td>null</td><td>null</td><td>1.0</td><td>null</td><td>142.0</td><td>null</td><td>202.0</td><td>null</td><td>17.0</td><td>null</td><td>null</td><td>642.0</td><td>null</td><td>null</td><td>null</td><td>null</td><td>null</td><td>null</td><td>null</td><td>null</td><td>null</td><td>null</td><td>null</td><td>null</td><td>null</td><td>null</td><td>null</td><td>null</td></tr><tr><td>&quot;max&quot;</td><td>2024.0</td><td>3.9400e16</td><td>&quot;World Bank&quot;</td><td>&quot;va&quot;</td><td>&quot;sotj23_loss_corp_musd&quot;</td><td>&quot;wgidataset.xlsx&quot;</td><td>&quot;WGI&quot;</td><td>&quot;o&quot;</td><td>1.0</td><td>&quot;World&quot;</td><td>150.0</td><td>&quot;Oceania&quot;</td><td>419.0</td><td>&quot;Western Europe&quot;</td><td>29.0</td><td>&quot;Western Africa&quot;</td><td>&quot;Zimbabwe&quot;</td><td>894.0</td><td>&quot;ZW&quot;</td><td>&quot;ZWE&quot;</td><td>&quot;Least Developed Countries (LDC…</td><td>&quot;Land Locked Developing Countri…</td><td>&quot;Small Island Developing States…</td><td>&quot;Arab states&quot;</td><td>&quot;Fragile and Conflict-Affected …</td><td>&quot;HIPC&quot;</td><td>&quot;High income&quot;</td><td>&quot;Low income&quot;</td><td>&quot;Lower middle income&quot;</td><td>&quot;OECD member&quot;</td><td>&quot;Small_state&quot;</td><td>&quot;Transit countries&quot;</td><td>&quot;Upper middle income&quot;</td><td>&quot;Oil Exporting&quot;</td></tr></tbody></table></div>"
      ],
      "text/plain": [
       "shape: (9, 35)\n",
       "┌───────────┬───────────┬───────────┬───────────┬───┬───────────┬───────────┬───────────┬──────────┐\n",
       "│ statistic ┆ year      ┆ value     ┆ source    ┆ … ┆ small_sta ┆ ldc_trans ┆ upper_mid ┆ oil_expo │\n",
       "│ ---       ┆ ---       ┆ ---       ┆ ---       ┆   ┆ te        ┆ it_countr ┆ dle_incom ┆ rting_co │\n",
       "│ str       ┆ f64       ┆ f64       ┆ str       ┆   ┆ ---       ┆ ies       ┆ e         ┆ untries  │\n",
       "│           ┆           ┆           ┆           ┆   ┆ str       ┆ ---       ┆ ---       ┆ ---      │\n",
       "│           ┆           ┆           ┆           ┆   ┆           ┆ str       ┆ str       ┆ str      │\n",
       "╞═══════════╪═══════════╪═══════════╪═══════════╪═══╪═══════════╪═══════════╪═══════════╪══════════╡\n",
       "│ count     ┆ 616409.0  ┆ 582793.0  ┆ 616409    ┆ … ┆ 128530    ┆ 108092    ┆ 159251    ┆ 213860   │\n",
       "│ null_coun ┆ 0.0       ┆ 33616.0   ┆ 0         ┆ … ┆ 487879    ┆ 508317    ┆ 457158    ┆ 402549   │\n",
       "│ t         ┆           ┆           ┆           ┆   ┆           ┆           ┆           ┆          │\n",
       "│ mean      ┆ 2006.2687 ┆ 2.0173e12 ┆ null      ┆ … ┆ null      ┆ null      ┆ null      ┆ null     │\n",
       "│           ┆ 7         ┆           ┆           ┆   ┆           ┆           ┆           ┆          │\n",
       "│ std       ┆ 11.425231 ┆ 1.4523e14 ┆ null      ┆ … ┆ null      ┆ null      ┆ null      ┆ null     │\n",
       "│ min       ┆ 1960.0    ┆ -4.4363e1 ┆ GFI       ┆ … ┆ Small_sta ┆ Transit   ┆ Upper     ┆ Oil Expo │\n",
       "│           ┆           ┆ 1         ┆           ┆   ┆ te        ┆ countries ┆ middle    ┆ rting    │\n",
       "│           ┆           ┆           ┆           ┆   ┆           ┆           ┆ income    ┆          │\n",
       "│ 25%       ┆ 1999.0    ┆ 1.0       ┆ null      ┆ … ┆ null      ┆ null      ┆ null      ┆ null     │\n",
       "│ 50%       ┆ 2008.0    ┆ 6.516388  ┆ null      ┆ … ┆ null      ┆ null      ┆ null      ┆ null     │\n",
       "│ 75%       ┆ 2016.0    ┆ 45.0      ┆ null      ┆ … ┆ null      ┆ null      ┆ null      ┆ null     │\n",
       "│ max       ┆ 2024.0    ┆ 3.9400e16 ┆ World     ┆ … ┆ Small_sta ┆ Transit   ┆ Upper     ┆ Oil Expo │\n",
       "│           ┆           ┆           ┆ Bank      ┆   ┆ te        ┆ countries ┆ middle    ┆ rting    │\n",
       "│           ┆           ┆           ┆           ┆   ┆           ┆           ┆ income    ┆          │\n",
       "└───────────┴───────────┴───────────┴───────────┴───┴───────────┴───────────┴───────────┴──────────┘"
      ]
     },
     "execution_count": 16,
     "metadata": {},
     "output_type": "execute_result"
    }
   ],
   "source": [
    "df = nexus.collect()      # run the query\n",
    "print(df.shape)           # (n_rows, n_cols)\n",
    "print(df.dtypes)          # list of dtypes\n",
    "df.describe()             # summary stats for each column"
   ]
  },
  {
   "cell_type": "markdown",
   "id": "55516c15",
   "metadata": {},
   "source": [
    "## Nexus metadata"
   ]
  },
  {
   "cell_type": "code",
   "execution_count": 9,
   "id": "be3710ec",
   "metadata": {},
   "outputs": [
    {
     "data": {
      "text/html": [
       "<div><style>\n",
       ".dataframe > thead > tr,\n",
       ".dataframe > tbody > tr {\n",
       "  text-align: right;\n",
       "  white-space: pre-wrap;\n",
       "}\n",
       "</style>\n",
       "<small>shape: (13, 2)</small><table border=\"1\" class=\"dataframe\"><thead><tr><th>column</th><th>distinct_count</th></tr><tr><td>str</td><td>u32</td></tr></thead><tbody><tr><td>&quot;source&quot;</td><td>6</td></tr><tr><td>&quot;database&quot;</td><td>12</td></tr><tr><td>&quot;collection&quot;</td><td>32</td></tr><tr><td>&quot;indicator_code&quot;</td><td>407</td></tr><tr><td>&quot;value_meta&quot;</td><td>7</td></tr><tr><td>&hellip;</td><td>&hellip;</td></tr><tr><td>&quot;land_locked_developing_countri…</td><td>2</td></tr><tr><td>&quot;small_island_developing_states…</td><td>2</td></tr><tr><td>&quot;income_level&quot;</td><td>5</td></tr><tr><td>&quot;oecd_member&quot;</td><td>2</td></tr><tr><td>&quot;fragile_and_conflict_affected_…</td><td>2</td></tr></tbody></table></div>"
      ],
      "text/plain": [
       "shape: (13, 2)\n",
       "┌─────────────────────────────────┬────────────────┐\n",
       "│ column                          ┆ distinct_count │\n",
       "│ ---                             ┆ ---            │\n",
       "│ str                             ┆ u32            │\n",
       "╞═════════════════════════════════╪════════════════╡\n",
       "│ source                          ┆ 6              │\n",
       "│ database                        ┆ 12             │\n",
       "│ collection                      ┆ 32             │\n",
       "│ indicator_code                  ┆ 407            │\n",
       "│ value_meta                      ┆ 7              │\n",
       "│ …                               ┆ …              │\n",
       "│ land_locked_developing_countri… ┆ 2              │\n",
       "│ small_island_developing_states… ┆ 2              │\n",
       "│ income_level                    ┆ 5              │\n",
       "│ oecd_member                     ┆ 2              │\n",
       "│ fragile_and_conflict_affected_… ┆ 2              │\n",
       "└─────────────────────────────────┴────────────────┘"
      ]
     },
     "execution_count": 9,
     "metadata": {},
     "output_type": "execute_result"
    }
   ],
   "source": [
    "# Get distinct counts for all metadata columns\n",
    "all_metadata_cols = SOURCE_META + IND_META + COUNTRY_CLASSES\n",
    "\n",
    "distinct_counts = (\n",
    "   nexus\n",
    "   .select([pl.col(c).n_unique().alias(c) for c in all_metadata_cols])\n",
    "   .collect()\n",
    ")\n",
    "\n",
    "# Display as a transposed view\n",
    "distinct_counts.transpose(include_header=True, header_name=\"column\", column_names=[\"distinct_count\"])"
   ]
  },
  {
   "cell_type": "markdown",
   "id": "2511513e",
   "metadata": {},
   "source": [
    "## `datamap` tool"
   ]
  },
  {
   "cell_type": "code",
   "execution_count": 8,
   "id": "46591d99",
   "metadata": {},
   "outputs": [
    {
     "data": {
      "text/plain": [
       "<function tools.datamap.datamap(df: polars.lazyframe.frame.LazyFrame, source_metadata_columns: List[str], indicator_metadata_columns: Optional[List[str]] = None) -> polars.dataframe.frame.DataFrame>"
      ]
     },
     "execution_count": 8,
     "metadata": {},
     "output_type": "execute_result"
    }
   ],
   "source": [
    "nx.datamap"
   ]
  },
  {
   "cell_type": "code",
   "execution_count": 7,
   "id": "35c11628",
   "metadata": {},
   "outputs": [
    {
     "data": {
      "text/html": [
       "<div><style>\n",
       ".dataframe > thead > tr,\n",
       ".dataframe > tbody > tr {\n",
       "  text-align: right;\n",
       "  white-space: pre-wrap;\n",
       "}\n",
       "</style>\n",
       "<small>shape: (32, 4)</small><table border=\"1\" class=\"dataframe\"><thead><tr><th>source</th><th>database</th><th>collection</th><th>count</th></tr><tr><td>str</td><td>str</td><td>str</td><td>u32</td></tr></thead><tbody><tr><td>&quot;GFI&quot;</td><td>&quot;gfi trade mispricing.xlsx&quot;</td><td>&quot;Table A&quot;</td><td>1195</td></tr><tr><td>&quot;GFI&quot;</td><td>&quot;gfi trade mispricing.xlsx&quot;</td><td>&quot;Table C&quot;</td><td>1185</td></tr><tr><td>&quot;GFI&quot;</td><td>&quot;gfi trade mispricing.xlsx&quot;</td><td>&quot;Table E&quot;</td><td>1199</td></tr><tr><td>&quot;GFI&quot;</td><td>&quot;gfi trade mispricing.xlsx&quot;</td><td>&quot;Table G&quot;</td><td>1189</td></tr><tr><td>&quot;ISORA&quot;</td><td>&quot;IMF ISORA.xlsx&quot;</td><td>&quot;Electronic filing rates by tax…</td><td>1284</td></tr><tr><td>&quot;ISORA&quot;</td><td>&quot;IMF ISORA.xlsx&quot;</td><td>&quot;On-time filing rates by tax ty…</td><td>1725</td></tr><tr><td>&quot;ISORA&quot;</td><td>&quot;IMF ISORA.xlsx&quot;</td><td>&quot;Percentage inactive taxpayers …</td><td>2027</td></tr><tr><td>&quot;ISORA&quot;</td><td>&quot;IMF ISORA.xlsx&quot;</td><td>&quot;Proportion of returns by ch_0&quot;</td><td>2162</td></tr><tr><td>&quot;ISORA&quot;</td><td>&quot;IMF ISORA.xlsx&quot;</td><td>&quot;Proportion of returns by ch_1&quot;</td><td>2027</td></tr><tr><td>&quot;ISORA&quot;</td><td>&quot;IMF ISORA.xlsx&quot;</td><td>&quot;Proportion of returns by chann…</td><td>2237</td></tr><tr><td>&quot;ISORA&quot;</td><td>&quot;IMF ISORA.xlsx&quot;</td><td>&quot;Registration of personal incom…</td><td>898</td></tr><tr><td>&quot;ISORA&quot;</td><td>&quot;IMF ISORA.xlsx&quot;</td><td>&quot;Segmentation ratios LTO or pro…</td><td>2460</td></tr><tr><td>&quot;ISORA&quot;</td><td>&quot;imf isora op metrics audit, cr…</td><td>&quot;Audit and verification&quot;</td><td>931</td></tr><tr><td>&quot;ISORA&quot;</td><td>&quot;imf isora op metrics audit, cr…</td><td>&quot;Dispute resolution review proc…</td><td>1857</td></tr><tr><td>&quot;ISORA&quot;</td><td>&quot;imf isora op metrics audit, cr…</td><td>&quot;Tax crime investigation&quot;</td><td>590</td></tr><tr><td>&quot;ISORA&quot;</td><td>&quot;imf isora op metrics audit, cr…</td><td>&quot;Value of additional assessm_0&quot;</td><td>1752</td></tr><tr><td>&quot;ISORA&quot;</td><td>&quot;imf isora op metrics audit, cr…</td><td>&quot;Value of additional assessment…</td><td>1399</td></tr><tr><td>&quot;ISORA&quot;</td><td>&quot;imf isora resources and ICT in…</td><td>&quot;Operational ICT solutions&quot;</td><td>1404</td></tr><tr><td>&quot;ISORA&quot;</td><td>&quot;imf isora resources and ICT in…</td><td>&quot;Tax administration expenditure…</td><td>1848</td></tr><tr><td>&quot;ISORA&quot;</td><td>&quot;imf isora resources and ICT in…</td><td>&quot;Tax administration staff total…</td><td>2805</td></tr><tr><td>&quot;ISORA&quot;</td><td>&quot;imf isora staff metrics.xlsx&quot;</td><td>&quot;Staff academic qualifications&quot;</td><td>934</td></tr><tr><td>&quot;ISORA&quot;</td><td>&quot;imf isora staff metrics.xlsx&quot;</td><td>&quot;Staff age distribution&quot;</td><td>2808</td></tr><tr><td>&quot;ISORA&quot;</td><td>&quot;imf isora staff metrics.xlsx&quot;</td><td>&quot;Staff gender distribution&quot;</td><td>2790</td></tr><tr><td>&quot;ISORA&quot;</td><td>&quot;imf isora staff metrics.xlsx&quot;</td><td>&quot;Staff length of service&quot;</td><td>1872</td></tr><tr><td>&quot;ISORA&quot;</td><td>&quot;imf isora staff metrics.xlsx&quot;</td><td>&quot;Staff strength levels&quot;</td><td>1872</td></tr><tr><td>&quot;TJN&quot;</td><td>&quot;Financial Secrecy Index (FSI)&quot;</td><td>&quot;Financial Secrecy Index (FSI)&quot;</td><td>2080</td></tr><tr><td>&quot;UNODC&quot;</td><td>&quot;Drug prices &amp; seizures&quot;</td><td>&quot;Drug prices &amp; seizures&quot;</td><td>401</td></tr><tr><td>&quot;USAID&quot;</td><td>&quot;Collecting Taxes Database (CTD…</td><td>&quot;Collecting Taxes Database (CTD…</td><td>81657</td></tr><tr><td>&quot;World Bank&quot;</td><td>&quot;WB-PEFA.xlsx&quot;</td><td>&quot;PEFA&quot;</td><td>24285</td></tr><tr><td>&quot;World Bank&quot;</td><td>&quot;WB_TAX CPACITY AND GAP.xlsx&quot;</td><td>&quot;TAXGAP&quot;</td><td>375663</td></tr><tr><td>&quot;World Bank&quot;</td><td>&quot;WDI&quot;</td><td>&quot;WDI&quot;</td><td>57773</td></tr><tr><td>&quot;World Bank&quot;</td><td>&quot;wgidataset.xlsx&quot;</td><td>&quot;WGI&quot;</td><td>32100</td></tr></tbody></table></div>"
      ],
      "text/plain": [
       "shape: (32, 4)\n",
       "┌────────────┬─────────────────────────────────┬─────────────────────────────────┬────────┐\n",
       "│ source     ┆ database                        ┆ collection                      ┆ count  │\n",
       "│ ---        ┆ ---                             ┆ ---                             ┆ ---    │\n",
       "│ str        ┆ str                             ┆ str                             ┆ u32    │\n",
       "╞════════════╪═════════════════════════════════╪═════════════════════════════════╪════════╡\n",
       "│ GFI        ┆ gfi trade mispricing.xlsx       ┆ Table A                         ┆ 1195   │\n",
       "│ GFI        ┆ gfi trade mispricing.xlsx       ┆ Table C                         ┆ 1185   │\n",
       "│ GFI        ┆ gfi trade mispricing.xlsx       ┆ Table E                         ┆ 1199   │\n",
       "│ GFI        ┆ gfi trade mispricing.xlsx       ┆ Table G                         ┆ 1189   │\n",
       "│ ISORA      ┆ IMF ISORA.xlsx                  ┆ Electronic filing rates by tax… ┆ 1284   │\n",
       "│ ISORA      ┆ IMF ISORA.xlsx                  ┆ On-time filing rates by tax ty… ┆ 1725   │\n",
       "│ ISORA      ┆ IMF ISORA.xlsx                  ┆ Percentage inactive taxpayers … ┆ 2027   │\n",
       "│ ISORA      ┆ IMF ISORA.xlsx                  ┆ Proportion of returns by ch_0   ┆ 2162   │\n",
       "│ ISORA      ┆ IMF ISORA.xlsx                  ┆ Proportion of returns by ch_1   ┆ 2027   │\n",
       "│ ISORA      ┆ IMF ISORA.xlsx                  ┆ Proportion of returns by chann… ┆ 2237   │\n",
       "│ ISORA      ┆ IMF ISORA.xlsx                  ┆ Registration of personal incom… ┆ 898    │\n",
       "│ ISORA      ┆ IMF ISORA.xlsx                  ┆ Segmentation ratios LTO or pro… ┆ 2460   │\n",
       "│ ISORA      ┆ imf isora op metrics audit, cr… ┆ Audit and verification          ┆ 931    │\n",
       "│ ISORA      ┆ imf isora op metrics audit, cr… ┆ Dispute resolution review proc… ┆ 1857   │\n",
       "│ ISORA      ┆ imf isora op metrics audit, cr… ┆ Tax crime investigation         ┆ 590    │\n",
       "│ ISORA      ┆ imf isora op metrics audit, cr… ┆ Value of additional assessm_0   ┆ 1752   │\n",
       "│ ISORA      ┆ imf isora op metrics audit, cr… ┆ Value of additional assessment… ┆ 1399   │\n",
       "│ ISORA      ┆ imf isora resources and ICT in… ┆ Operational ICT solutions       ┆ 1404   │\n",
       "│ ISORA      ┆ imf isora resources and ICT in… ┆ Tax administration expenditure… ┆ 1848   │\n",
       "│ ISORA      ┆ imf isora resources and ICT in… ┆ Tax administration staff total… ┆ 2805   │\n",
       "│ ISORA      ┆ imf isora staff metrics.xlsx    ┆ Staff academic qualifications   ┆ 934    │\n",
       "│ ISORA      ┆ imf isora staff metrics.xlsx    ┆ Staff age distribution          ┆ 2808   │\n",
       "│ ISORA      ┆ imf isora staff metrics.xlsx    ┆ Staff gender distribution       ┆ 2790   │\n",
       "│ ISORA      ┆ imf isora staff metrics.xlsx    ┆ Staff length of service         ┆ 1872   │\n",
       "│ ISORA      ┆ imf isora staff metrics.xlsx    ┆ Staff strength levels           ┆ 1872   │\n",
       "│ TJN        ┆ Financial Secrecy Index (FSI)   ┆ Financial Secrecy Index (FSI)   ┆ 2080   │\n",
       "│ UNODC      ┆ Drug prices & seizures          ┆ Drug prices & seizures          ┆ 401    │\n",
       "│ USAID      ┆ Collecting Taxes Database (CTD… ┆ Collecting Taxes Database (CTD… ┆ 81657  │\n",
       "│ World Bank ┆ WB-PEFA.xlsx                    ┆ PEFA                            ┆ 24285  │\n",
       "│ World Bank ┆ WB_TAX CPACITY AND GAP.xlsx     ┆ TAXGAP                          ┆ 375663 │\n",
       "│ World Bank ┆ WDI                             ┆ WDI                             ┆ 57773  │\n",
       "│ World Bank ┆ wgidataset.xlsx                 ┆ WGI                             ┆ 32100  │\n",
       "└────────────┴─────────────────────────────────┴─────────────────────────────────┴────────┘"
      ]
     },
     "execution_count": 7,
     "metadata": {},
     "output_type": "execute_result"
    }
   ],
   "source": [
    "nx.datamap(\n",
    "    nexus,\n",
    "    source_metadata_columns=SOURCE_META\n",
    ")"
   ]
  },
  {
   "cell_type": "markdown",
   "id": "b09b462d",
   "metadata": {},
   "source": [
    "## `filter_pivot` tool"
   ]
  },
  {
   "cell_type": "markdown",
   "id": "f589b371",
   "metadata": {},
   "source": [
    "Using `filter_pivot` with config values"
   ]
  },
  {
   "cell_type": "code",
   "execution_count": 8,
   "id": "2077c1b3",
   "metadata": {},
   "outputs": [
    {
     "data": {
      "text/html": [
       "<div><style>\n",
       ".dataframe > thead > tr,\n",
       ".dataframe > tbody > tr {\n",
       "  text-align: right;\n",
       "  white-space: pre-wrap;\n",
       "}\n",
       "</style>\n",
       "<small>shape: (459, 89)</small><table border=\"1\" class=\"dataframe\"><thead><tr><th>country</th><th>year</th><th>Capital expenditure - Derived</th><th>Operating expenditure - Derived</th><th>Salary expenditure - Derived</th><th>Information and communications technology expenditure - Derived</th><th>FTEs by function of the tax administration-Other functions</th><th>Percentage of staff working on headquarter functions</th><th>Total tax administration FTEs - Derived</th><th>FTEs by function of the tax administration-Registration, taxpayer services, returns and payment processing</th><th>FTEs by function of the tax administration-Enforced debt collection and related functions</th><th>FTEs by function of the tax administration-Audit, investigation and other verification</th><th>Operational ICT solutions of the administration are…-Custom built</th><th>Operational ICT solutions of the administration are…-On premises commercial off the shelf (COTS)</th><th>Operational ICT solutions of the administration are…-Software-as-a-Service (SaaS, i.e. cloud based)</th><th>Staff strength levels -No. at end of FY</th><th>Staff strength levels -No. at start of FY</th><th>Staff strength levels -Departures in FY</th><th>Staff strength levels -Recruitments in FY</th><th>Academic qualifications (No. of staff at the end of FY)-Masters degree (or above)</th><th>Academic qualifications (No. of staff at the end of FY)-Bachelors degree</th><th>Age distribution (No. of staff at the end of FY)-35-44 years</th><th>Age distribution (No. of staff at the end of FY)-45-54 years</th><th>Age distribution (No. of staff at the end of FY)-25-34 years</th><th>Age distribution (No. of staff at the end of FY)-Under 25 years</th><th>Age distribution (No. of staff at the end of FY)-Over 64 years</th><th>Age distribution (No. of staff at the end of FY)-55-64 years</th><th>Length of service (No. of staff at the end of FY)-Over 19 years</th><th>Length of service (No. of staff at the end of FY)-Under 5 years</th><th>Length of service (No. of staff at the end of FY)-5-9 years</th><th>Length of service (No. of staff at the end of FY)-10-19 years</th><th>Gender distribution (No. of staff at the end of FY)-Executives only-Female</th><th>Gender distribution (No. of staff at the end of FY)-Executives only-Other</th><th>Gender distribution (No. of staff at the end of FY)-All staff-Male</th><th>Gender distribution (No. of staff at the end of FY)-All staff-Female</th><th>Gender distribution (No. of staff at the end of FY)-Executives only-Male</th><th>Gender distribution (No. of staff at the end of FY)-All staff-Other</th><th>&hellip;</th><th>Taxpayers must first pursue internal review where an internal review is permissible</th><th>Mechanisms available for taxpayers to challenge assessments-Independent review by external body</th><th>FTEs in LTO/P as percentage of FTEs</th><th>Percentage of net revenue administered under LTO/P in relation to total net revenue collected by the tax administration</th><th>FTEs on audit, investigation and other verification function in the LTO/P as percentage of total FTEs in LTO/P</th><th>Corporate taxpayers managed through LTO/P as percentage of active corporate taxpayers</th><th>Total value of additional assessments raised through LTO/P as percentage of total value of additional assessments raised from audits</th><th>Corporate taxpayers per FTE in LTO/P</th><th>Active taxpayers on PIT register as percentage of Labor Force</th><th>Active taxpayers on PIT register as percentage of Population</th><th>On PIT register</th><th>On CIT register</th><th>On PAYE register</th><th>On VAT register</th><th>On Excise register</th><th>On-time filing rate % - Corporate income tax</th><th>On-time filing rate % - Personal income tax</th><th>On-time filing rate % - Value added tax</th><th>On-time filing rate % - Employers that withhold tax from employees</th><th>Percent CIT returns e-filed</th><th>Percent PIT returns e-filed</th><th>Percent VAT returns e-filed</th><th>Paper returns-CIT</th><th>Electronic - fully pre-filled deemed-CIT</th><th>Electronic -not pre-filled or partially pre-filled-CIT</th><th>Electronic - fully pre-filled confirmation required-CIT</th><th>Other-CIT</th><th>Paper returns-PIT</th><th>Electronic - fully pre-filled deemed-PIT</th><th>Electronic -not pre-filled or partially pre-filled-PIT</th><th>Electronic - fully pre-filled confirmation required-PIT</th><th>Other-PIT</th><th>Paper returns</th><th>Electronic - fully pre-filled deemed</th><th>Electronic -not pre-filled or partially pre-filled</th><th>Electronic - fully pre-filled confirmation required</th><th>Other</th></tr><tr><td>str</td><td>i64</td><td>f64</td><td>f64</td><td>f64</td><td>f64</td><td>f64</td><td>f64</td><td>f64</td><td>f64</td><td>f64</td><td>f64</td><td>f64</td><td>f64</td><td>f64</td><td>f64</td><td>f64</td><td>f64</td><td>f64</td><td>f64</td><td>f64</td><td>f64</td><td>f64</td><td>f64</td><td>f64</td><td>f64</td><td>f64</td><td>f64</td><td>f64</td><td>f64</td><td>f64</td><td>f64</td><td>f64</td><td>f64</td><td>f64</td><td>f64</td><td>f64</td><td>&hellip;</td><td>f64</td><td>f64</td><td>f64</td><td>f64</td><td>f64</td><td>f64</td><td>f64</td><td>f64</td><td>f64</td><td>f64</td><td>f64</td><td>f64</td><td>f64</td><td>f64</td><td>f64</td><td>f64</td><td>f64</td><td>f64</td><td>f64</td><td>f64</td><td>f64</td><td>f64</td><td>f64</td><td>f64</td><td>f64</td><td>f64</td><td>f64</td><td>f64</td><td>f64</td><td>f64</td><td>f64</td><td>f64</td><td>f64</td><td>f64</td><td>f64</td><td>f64</td><td>f64</td></tr></thead><tbody><tr><td>&quot;Afghanistan&quot;</td><td>2018</td><td>2.5e7</td><td>6.5e7</td><td>6e7</td><td>2e7</td><td>2170.0</td><td>60.0</td><td>2800.0</td><td>400.0</td><td>80.0</td><td>150.0</td><td>null</td><td>null</td><td>null</td><td>2265.0</td><td>4300.0</td><td>2150.0</td><td>115.0</td><td>120.0</td><td>2145.0</td><td>566.0</td><td>453.0</td><td>679.0</td><td>321.0</td><td>20.0</td><td>226.0</td><td>453.0</td><td>566.0</td><td>793.0</td><td>453.0</td><td>0.0</td><td>0.0</td><td>2205.0</td><td>60.0</td><td>0.0</td><td>0.0</td><td>&hellip;</td><td>null</td><td>null</td><td>3.428571</td><td>32.0</td><td>30.208333</td><td>2.03427</td><td>null</td><td>13.541667</td><td>0.615603</td><td>0.170895</td><td>11.885871</td><td>9.148422</td><td>0.0</td><td>null</td><td>null</td><td>40.530475</td><td>11.881936</td><td>null</td><td>17.397351</td><td>null</td><td>null</td><td>null</td><td>null</td><td>null</td><td>null</td><td>null</td><td>null</td><td>null</td><td>null</td><td>null</td><td>null</td><td>null</td><td>null</td><td>null</td><td>null</td><td>null</td><td>null</td></tr><tr><td>&quot;Albania&quot;</td><td>2018</td><td>323007.0</td><td>2.341587e6</td><td>1.53126e6</td><td>367028.0</td><td>375.0</td><td>17.8</td><td>1569.0</td><td>284.0</td><td>152.0</td><td>758.0</td><td>null</td><td>null</td><td>null</td><td>1402.0</td><td>1363.0</td><td>141.0</td><td>180.0</td><td>1144.0</td><td>241.0</td><td>313.0</td><td>345.0</td><td>419.0</td><td>11.0</td><td>25.0</td><td>289.0</td><td>418.0</td><td>385.0</td><td>244.0</td><td>355.0</td><td>10.0</td><td>null</td><td>805.0</td><td>572.0</td><td>15.0</td><td>null</td><td>&hellip;</td><td>null</td><td>null</td><td>7.648184</td><td>37.0</td><td>60.0</td><td>3.108401</td><td>54.79214</td><td>5.608333</td><td>3.017202</td><td>1.473742</td><td>47.457648</td><td>49.564387</td><td>null</td><td>38.873493</td><td>null</td><td>92.051756</td><td>96.889732</td><td>96.299935</td><td>96.091965</td><td>100.0</td><td>100.0</td><td>100.0</td><td>0.0</td><td>0.0</td><td>100.0</td><td>0.0</td><td>0.0</td><td>0.0</td><td>0.0</td><td>100.0</td><td>0.0</td><td>0.0</td><td>0.0</td><td>0.0</td><td>100.0</td><td>0.0</td><td>0.0</td></tr><tr><td>&quot;Angola&quot;</td><td>2018</td><td>44508.0</td><td>3.8104132e7</td><td>2.9834501e7</td><td>130.0</td><td>null</td><td>30.0</td><td>2014.0</td><td>1199.0</td><td>null</td><td>227.0</td><td>null</td><td>null</td><td>null</td><td>3789.0</td><td>null</td><td>null</td><td>null</td><td>76.0</td><td>1848.0</td><td>1577.0</td><td>634.0</td><td>1243.0</td><td>48.0</td><td>0.0</td><td>287.0</td><td>694.0</td><td>1202.0</td><td>1024.0</td><td>869.0</td><td>122.0</td><td>0.0</td><td>2007.0</td><td>1782.0</td><td>255.0</td><td>0.0</td><td>&hellip;</td><td>null</td><td>null</td><td>5.561072</td><td>89.0</td><td>41.964286</td><td>0.293479</td><td>null</td><td>3.678571</td><td>37.297847</td><td>15.381275</td><td>0.645863</td><td>15.196235</td><td>14.33191</td><td>null</td><td>null</td><td>18.98066</td><td>0.596085</td><td>null</td><td>0.607975</td><td>null</td><td>null</td><td>null</td><td>null</td><td>null</td><td>null</td><td>null</td><td>null</td><td>null</td><td>null</td><td>null</td><td>null</td><td>null</td><td>null</td><td>null</td><td>null</td><td>null</td><td>null</td></tr><tr><td>&quot;Antigua and Barbuda&quot;</td><td>2018</td><td>35.0</td><td>8193.0</td><td>4900.0</td><td>470.0</td><td>64.0</td><td>2.0</td><td>128.0</td><td>20.0</td><td>4.0</td><td>40.0</td><td>null</td><td>null</td><td>null</td><td>128.0</td><td>126.0</td><td>1.0</td><td>3.0</td><td>7.0</td><td>46.0</td><td>43.0</td><td>42.0</td><td>38.0</td><td>0.0</td><td>0.0</td><td>5.0</td><td>42.0</td><td>10.0</td><td>40.0</td><td>36.0</td><td>1.0</td><td>0.0</td><td>32.0</td><td>96.0</td><td>3.0</td><td>0.0</td><td>&hellip;</td><td>null</td><td>null</td><td>null</td><td>null</td><td>null</td><td>null</td><td>null</td><td>null</td><td>17.057249</td><td>9.200058</td><td>11.526169</td><td>9.985886</td><td>null</td><td>8.987342</td><td>null</td><td>14.619048</td><td>17.927297</td><td>44.862591</td><td>null</td><td>0.0</td><td>0.0</td><td>0.0</td><td>100.0</td><td>0.0</td><td>0.0</td><td>0.0</td><td>0.0</td><td>100.0</td><td>0.0</td><td>0.0</td><td>0.0</td><td>0.0</td><td>100.0</td><td>0.0</td><td>0.0</td><td>0.0</td><td>0.0</td></tr><tr><td>&quot;Argentina&quot;</td><td>2018</td><td>63629.0</td><td>3.8742707e7</td><td>3.667606e7</td><td>131337.0</td><td>6350.0</td><td>15.0</td><td>14743.0</td><td>982.0</td><td>3425.0</td><td>3986.0</td><td>null</td><td>null</td><td>null</td><td>20838.0</td><td>21756.0</td><td>1045.0</td><td>127.0</td><td>916.0</td><td>11901.0</td><td>4859.0</td><td>7786.0</td><td>1725.0</td><td>121.0</td><td>465.0</td><td>5882.0</td><td>11594.0</td><td>1845.0</td><td>2762.0</td><td>4637.0</td><td>29.0</td><td>0.0</td><td>11449.0</td><td>9389.0</td><td>83.0</td><td>0.0</td><td>&hellip;</td><td>null</td><td>null</td><td>3.079428</td><td>45.5</td><td>53.744493</td><td>0.172763</td><td>24.3549</td><td>1.370044</td><td>15.117365</td><td>6.9826</td><td>23.957649</td><td>12.205364</td><td>null</td><td>36.185019</td><td>85.476644</td><td>41.226141</td><td>60.247371</td><td>80.347814</td><td>86.904851</td><td>100.0</td><td>100.0</td><td>100.0</td><td>0.0</td><td>0.0</td><td>100.0</td><td>0.0</td><td>0.0</td><td>0.0</td><td>0.0</td><td>100.0</td><td>0.0</td><td>0.0</td><td>0.0</td><td>0.0</td><td>100.0</td><td>0.0</td><td>0.0</td></tr><tr><td>&hellip;</td><td>&hellip;</td><td>&hellip;</td><td>&hellip;</td><td>&hellip;</td><td>&hellip;</td><td>&hellip;</td><td>&hellip;</td><td>&hellip;</td><td>&hellip;</td><td>&hellip;</td><td>&hellip;</td><td>&hellip;</td><td>&hellip;</td><td>&hellip;</td><td>&hellip;</td><td>&hellip;</td><td>&hellip;</td><td>&hellip;</td><td>&hellip;</td><td>&hellip;</td><td>&hellip;</td><td>&hellip;</td><td>&hellip;</td><td>&hellip;</td><td>&hellip;</td><td>&hellip;</td><td>&hellip;</td><td>&hellip;</td><td>&hellip;</td><td>&hellip;</td><td>&hellip;</td><td>&hellip;</td><td>&hellip;</td><td>&hellip;</td><td>&hellip;</td><td>&hellip;</td><td>&hellip;</td><td>&hellip;</td><td>&hellip;</td><td>&hellip;</td><td>&hellip;</td><td>&hellip;</td><td>&hellip;</td><td>&hellip;</td><td>&hellip;</td><td>&hellip;</td><td>&hellip;</td><td>&hellip;</td><td>&hellip;</td><td>&hellip;</td><td>&hellip;</td><td>&hellip;</td><td>&hellip;</td><td>&hellip;</td><td>&hellip;</td><td>&hellip;</td><td>&hellip;</td><td>&hellip;</td><td>&hellip;</td><td>&hellip;</td><td>&hellip;</td><td>&hellip;</td><td>&hellip;</td><td>&hellip;</td><td>&hellip;</td><td>&hellip;</td><td>&hellip;</td><td>&hellip;</td><td>&hellip;</td><td>&hellip;</td><td>&hellip;</td><td>&hellip;</td><td>&hellip;</td><td>&hellip;</td></tr><tr><td>&quot;Zambia&quot;</td><td>2019</td><td>null</td><td>699393.0</td><td>486164.0</td><td>null</td><td>205.0</td><td>53.0</td><td>949.0</td><td>602.0</td><td>95.0</td><td>47.0</td><td>null</td><td>null</td><td>null</td><td>1960.0</td><td>1813.0</td><td>126.0</td><td>273.0</td><td>null</td><td>null</td><td>696.0</td><td>429.0</td><td>765.0</td><td>64.0</td><td>0.0</td><td>6.0</td><td>370.0</td><td>969.0</td><td>366.0</td><td>255.0</td><td>4.0</td><td>0.0</td><td>1242.0</td><td>718.0</td><td>19.0</td><td>0.0</td><td>&hellip;</td><td>null</td><td>null</td><td>4.531085</td><td>85.0</td><td>65.116279</td><td>11.546749</td><td>40.238214</td><td>69.790698</td><td>null</td><td>null</td><td>null</td><td>86.571598</td><td>62.256981</td><td>32.61477</td><td>2.214022</td><td>45.328973</td><td>null</td><td>73.017339</td><td>69.200193</td><td>99.557816</td><td>96.726042</td><td>99.959631</td><td>0.028467</td><td>0.0</td><td>99.557816</td><td>0.0</td><td>0.413717</td><td>3.273958</td><td>0.0</td><td>96.726042</td><td>0.0</td><td>0.0</td><td>0.009542</td><td>0.0</td><td>99.959631</td><td>0.0</td><td>0.030827</td></tr><tr><td>&quot;Cook Islands&quot;</td><td>2020</td><td>null</td><td>1114.0</td><td>958.0</td><td>18.0</td><td>2.0</td><td>10.0</td><td>31.0</td><td>5.0</td><td>7.0</td><td>17.0</td><td>null</td><td>null</td><td>null</td><td>28.0</td><td>24.0</td><td>1.0</td><td>5.0</td><td>1.0</td><td>3.0</td><td>4.0</td><td>4.0</td><td>10.0</td><td>6.0</td><td>2.0</td><td>2.0</td><td>2.0</td><td>18.0</td><td>4.0</td><td>4.0</td><td>1.0</td><td>0.0</td><td>8.0</td><td>20.0</td><td>5.0</td><td>0.0</td><td>&hellip;</td><td>null</td><td>null</td><td>16.129032</td><td>null</td><td>100.0</td><td>7.604563</td><td>null</td><td>8.0</td><td>57.070143</td><td>30.090986</td><td>81.124251</td><td>75.893676</td><td>41.155989</td><td>40.496368</td><td>null</td><td>null</td><td>14.950316</td><td>42.968119</td><td>40.825209</td><td>24.870466</td><td>21.230599</td><td>58.294133</td><td>75.129534</td><td>0.0</td><td>24.870466</td><td>0.0</td><td>0.0</td><td>78.769401</td><td>0.0</td><td>21.230599</td><td>0.0</td><td>0.0</td><td>41.705867</td><td>0.0</td><td>58.294133</td><td>0.0</td><td>0.0</td></tr><tr><td>&quot;Montserrat&quot;</td><td>2020</td><td>null</td><td>2025.0</td><td>1162.0</td><td>null</td><td>20.0</td><td>0.16</td><td>41.0</td><td>11.0</td><td>4.0</td><td>6.0</td><td>null</td><td>null</td><td>null</td><td>43.0</td><td>38.0</td><td>1.0</td><td>6.0</td><td>1.0</td><td>8.0</td><td>15.0</td><td>6.0</td><td>11.0</td><td>7.0</td><td>0.0</td><td>4.0</td><td>7.0</td><td>12.0</td><td>12.0</td><td>12.0</td><td>4.0</td><td>0.0</td><td>22.0</td><td>21.0</td><td>4.0</td><td>0.0</td><td>&hellip;</td><td>null</td><td>null</td><td>null</td><td>null</td><td>null</td><td>null</td><td>null</td><td>null</td><td>144.016563</td><td>79.171409</td><td>3.119777</td><td>13.584906</td><td>22.443182</td><td>null</td><td>null</td><td>0.0</td><td>6.462396</td><td>null</td><td>0.0</td><td>0.0</td><td>0.0</td><td>null</td><td>100.0</td><td>0.0</td><td>0.0</td><td>0.0</td><td>0.0</td><td>100.0</td><td>0.0</td><td>0.0</td><td>0.0</td><td>0.0</td><td>null</td><td>null</td><td>null</td><td>null</td><td>null</td></tr><tr><td>&quot;Uganda&quot;</td><td>2020</td><td>null</td><td>4.3936433e7</td><td>2.5098723e7</td><td>1.003397e6</td><td>322.0</td><td>63.84</td><td>1140.0</td><td>425.0</td><td>45.0</td><td>348.0</td><td>null</td><td>null</td><td>null</td><td>2359.0</td><td>2432.0</td><td>153.0</td><td>80.0</td><td>313.0</td><td>1172.0</td><td>1001.0</td><td>627.0</td><td>711.0</td><td>4.0</td><td>0.0</td><td>16.0</td><td>429.0</td><td>414.0</td><td>845.0</td><td>671.0</td><td>11.0</td><td>0.0</td><td>1402.0</td><td>957.0</td><td>14.0</td><td>0.0</td><td>&hellip;</td><td>null</td><td>null</td><td>7.192982</td><td>63.5</td><td>51.219512</td><td>0.897206</td><td>18.606406</td><td>10.512195</td><td>2.692709</td><td>0.972191</td><td>63.08346</td><td>9.452811</td><td>13.88632</td><td>10.821367</td><td>6.875</td><td>32.647012</td><td>2.933701</td><td>75.377702</td><td>62.024123</td><td>100.0</td><td>100.0</td><td>100.0</td><td>0.0</td><td>0.0</td><td>100.0</td><td>0.0</td><td>0.0</td><td>0.0</td><td>0.0</td><td>100.0</td><td>0.0</td><td>0.0</td><td>0.0</td><td>0.0</td><td>100.0</td><td>0.0</td><td>0.0</td></tr><tr><td>&quot;Kazakhstan&quot;</td><td>2020</td><td>null</td><td>null</td><td>null</td><td>null</td><td>-2673.0</td><td>34.0</td><td>null</td><td>963.0</td><td>725.0</td><td>985.0</td><td>null</td><td>null</td><td>null</td><td>12391.0</td><td>11703.0</td><td>1655.0</td><td>2343.0</td><td>584.0</td><td>10327.0</td><td>3762.0</td><td>2906.0</td><td>3351.0</td><td>153.0</td><td>0.0</td><td>2219.0</td><td>3134.0</td><td>2914.0</td><td>2145.0</td><td>4198.0</td><td>4576.0</td><td>0.0</td><td>6282.0</td><td>6109.0</td><td>4338.0</td><td>0.0</td><td>&hellip;</td><td>null</td><td>null</td><td>null</td><td>99.99</td><td>26.315789</td><td>0.076101</td><td>336.648079</td><td>5.894737</td><td>0.0</td><td>0.0</td><td>100.0</td><td>8.13112</td><td>null</td><td>100.0</td><td>11.133359</td><td>null</td><td>null</td><td>null</td><td>null</td><td>null</td><td>null</td><td>null</td><td>null</td><td>null</td><td>null</td><td>null</td><td>null</td><td>null</td><td>null</td><td>null</td><td>null</td><td>null</td><td>null</td><td>null</td><td>null</td><td>null</td><td>null</td></tr></tbody></table></div>"
      ],
      "text/plain": [
       "shape: (459, 89)\n",
       "┌────────────┬──────┬────────────┬────────────┬───┬────────────┬────────────┬───────────┬──────────┐\n",
       "│ country    ┆ year ┆ Capital    ┆ Operating  ┆ … ┆ Electronic ┆ Electronic ┆ Electroni ┆ Other    │\n",
       "│ ---        ┆ ---  ┆ expenditur ┆ expenditur ┆   ┆ - fully    ┆ -not       ┆ c - fully ┆ ---      │\n",
       "│ str        ┆ i64  ┆ e -        ┆ e -        ┆   ┆ pre-filled ┆ pre-filled ┆ pre-fille ┆ f64      │\n",
       "│            ┆      ┆ Derived    ┆ Derive…    ┆   ┆ …          ┆ or …       ┆ d …       ┆          │\n",
       "│            ┆      ┆ ---        ┆ ---        ┆   ┆ ---        ┆ ---        ┆ ---       ┆          │\n",
       "│            ┆      ┆ f64        ┆ f64        ┆   ┆ f64        ┆ f64        ┆ f64       ┆          │\n",
       "╞════════════╪══════╪════════════╪════════════╪═══╪════════════╪════════════╪═══════════╪══════════╡\n",
       "│ Afghanista ┆ 2018 ┆ 2.5e7      ┆ 6.5e7      ┆ … ┆ null       ┆ null       ┆ null      ┆ null     │\n",
       "│ n          ┆      ┆            ┆            ┆   ┆            ┆            ┆           ┆          │\n",
       "│ Albania    ┆ 2018 ┆ 323007.0   ┆ 2.341587e6 ┆ … ┆ 0.0        ┆ 100.0      ┆ 0.0       ┆ 0.0      │\n",
       "│ Angola     ┆ 2018 ┆ 44508.0    ┆ 3.8104132e ┆ … ┆ null       ┆ null       ┆ null      ┆ null     │\n",
       "│            ┆      ┆            ┆ 7          ┆   ┆            ┆            ┆           ┆          │\n",
       "│ Antigua    ┆ 2018 ┆ 35.0       ┆ 8193.0     ┆ … ┆ 0.0        ┆ 0.0        ┆ 0.0       ┆ 0.0      │\n",
       "│ and        ┆      ┆            ┆            ┆   ┆            ┆            ┆           ┆          │\n",
       "│ Barbuda    ┆      ┆            ┆            ┆   ┆            ┆            ┆           ┆          │\n",
       "│ Argentina  ┆ 2018 ┆ 63629.0    ┆ 3.8742707e ┆ … ┆ 0.0        ┆ 100.0      ┆ 0.0       ┆ 0.0      │\n",
       "│            ┆      ┆            ┆ 7          ┆   ┆            ┆            ┆           ┆          │\n",
       "│ …          ┆ …    ┆ …          ┆ …          ┆ … ┆ …          ┆ …          ┆ …         ┆ …        │\n",
       "│ Zambia     ┆ 2019 ┆ null       ┆ 699393.0   ┆ … ┆ 0.0        ┆ 99.959631  ┆ 0.0       ┆ 0.030827 │\n",
       "│ Cook       ┆ 2020 ┆ null       ┆ 1114.0     ┆ … ┆ 0.0        ┆ 58.294133  ┆ 0.0       ┆ 0.0      │\n",
       "│ Islands    ┆      ┆            ┆            ┆   ┆            ┆            ┆           ┆          │\n",
       "│ Montserrat ┆ 2020 ┆ null       ┆ 2025.0     ┆ … ┆ null       ┆ null       ┆ null      ┆ null     │\n",
       "│ Uganda     ┆ 2020 ┆ null       ┆ 4.3936433e ┆ … ┆ 0.0        ┆ 100.0      ┆ 0.0       ┆ 0.0      │\n",
       "│            ┆      ┆            ┆ 7          ┆   ┆            ┆            ┆           ┆          │\n",
       "│ Kazakhstan ┆ 2020 ┆ null       ┆ null       ┆ … ┆ null       ┆ null       ┆ null      ┆ null     │\n",
       "└────────────┴──────┴────────────┴────────────┴───┴────────────┴────────────┴───────────┴──────────┘"
      ]
     },
     "execution_count": 8,
     "metadata": {},
     "output_type": "execute_result"
    }
   ],
   "source": [
    "nx.filter_pivot(\n",
    "    nexus.filter(pl.col(\"source\") == \"ISORA\"),\n",
    "    index_cols=INDEX_COLS,\n",
    "    ind='label'  # or 'code' to pivot on indicator_code\n",
    ")"
   ]
  },
  {
   "cell_type": "markdown",
   "id": "8233455d",
   "metadata": {},
   "source": [
    "Chainning filters before pivoting"
   ]
  },
  {
   "cell_type": "code",
   "execution_count": null,
   "id": "af988657",
   "metadata": {},
   "outputs": [
    {
     "data": {
      "text/html": [
       "<div><style>\n",
       ".dataframe > thead > tr,\n",
       ".dataframe > tbody > tr {\n",
       "  text-align: right;\n",
       "  white-space: pre-wrap;\n",
       "}\n",
       "</style>\n",
       "<small>shape: (153, 86)</small><table border=\"1\" class=\"dataframe\"><thead><tr><th>country</th><th>year</th><th>Capital expenditure - Derived</th><th>Operating expenditure - Derived</th><th>Salary expenditure - Derived</th><th>Information and communications technology expenditure - Derived</th><th>FTEs by function of the tax administration-Other functions</th><th>Percentage of staff working on headquarter functions</th><th>Total tax administration FTEs - Derived</th><th>FTEs by function of the tax administration-Registration, taxpayer services, returns and payment processing</th><th>FTEs by function of the tax administration-Enforced debt collection and related functions</th><th>FTEs by function of the tax administration-Audit, investigation and other verification</th><th>Operational ICT solutions of the administration are…-Custom built</th><th>Operational ICT solutions of the administration are…-On premises commercial off the shelf (COTS)</th><th>Operational ICT solutions of the administration are…-Software-as-a-Service (SaaS, i.e. cloud based)</th><th>Staff strength levels -No. at end of FY</th><th>Staff strength levels -No. at start of FY</th><th>Staff strength levels -Departures in FY</th><th>Staff strength levels -Recruitments in FY</th><th>Academic qualifications (No. of staff at the end of FY)-Masters degree (or above)</th><th>Academic qualifications (No. of staff at the end of FY)-Bachelors degree</th><th>Age distribution (No. of staff at the end of FY)-35-44 years</th><th>Age distribution (No. of staff at the end of FY)-45-54 years</th><th>Age distribution (No. of staff at the end of FY)-25-34 years</th><th>Age distribution (No. of staff at the end of FY)-Under 25 years</th><th>Age distribution (No. of staff at the end of FY)-Over 64 years</th><th>Age distribution (No. of staff at the end of FY)-55-64 years</th><th>Length of service (No. of staff at the end of FY)-Over 19 years</th><th>Length of service (No. of staff at the end of FY)-Under 5 years</th><th>Length of service (No. of staff at the end of FY)-5-9 years</th><th>Length of service (No. of staff at the end of FY)-10-19 years</th><th>Gender distribution (No. of staff at the end of FY)-Executives only-Female</th><th>Gender distribution (No. of staff at the end of FY)-Executives only-Other</th><th>Gender distribution (No. of staff at the end of FY)-All staff-Male</th><th>Gender distribution (No. of staff at the end of FY)-All staff-Female</th><th>Gender distribution (No. of staff at the end of FY)-Executives only-Male</th><th>Gender distribution (No. of staff at the end of FY)-All staff-Other</th><th>&hellip;</th><th>Taxpayers must first pursue internal review where an internal review is permissible</th><th>Mechanisms available for taxpayers to challenge assessments-Independent review by external body</th><th>FTEs in LTO/P as percentage of FTEs</th><th>Percentage of net revenue administered under LTO/P in relation to total net revenue collected by the tax administration</th><th>FTEs on audit, investigation and other verification function in the LTO/P as percentage of total FTEs in LTO/P</th><th>Corporate taxpayers managed through LTO/P as percentage of active corporate taxpayers</th><th>Total value of additional assessments raised through LTO/P as percentage of total value of additional assessments raised from audits</th><th>Corporate taxpayers per FTE in LTO/P</th><th>Active taxpayers on PIT register as percentage of Labor Force</th><th>Active taxpayers on PIT register as percentage of Population</th><th>On PIT register</th><th>On CIT register</th><th>On PAYE register</th><th>On VAT register</th><th>On Excise register</th><th>On-time filing rate % - Corporate income tax</th><th>On-time filing rate % - Personal income tax</th><th>On-time filing rate % - Value added tax</th><th>On-time filing rate % - Employers that withhold tax from employees</th><th>Percent CIT returns e-filed</th><th>Percent PIT returns e-filed</th><th>Percent VAT returns e-filed</th><th>Paper returns-CIT</th><th>Electronic - fully pre-filled deemed-CIT</th><th>Electronic -not pre-filled or partially pre-filled-CIT</th><th>Electronic - fully pre-filled confirmation required-CIT</th><th>Other-CIT</th><th>Paper returns-PIT</th><th>Electronic - fully pre-filled deemed-PIT</th><th>Electronic -not pre-filled or partially pre-filled-PIT</th><th>Electronic - fully pre-filled confirmation required-PIT</th><th>Other-PIT</th><th>Paper returns</th><th>Electronic - fully pre-filled deemed</th><th>Electronic -not pre-filled or partially pre-filled</th><th>Electronic - fully pre-filled confirmation required</th><th>Other</th></tr><tr><td>str</td><td>i64</td><td>f64</td><td>f64</td><td>f64</td><td>f64</td><td>f64</td><td>f64</td><td>f64</td><td>f64</td><td>f64</td><td>f64</td><td>f64</td><td>f64</td><td>f64</td><td>f64</td><td>f64</td><td>f64</td><td>f64</td><td>f64</td><td>f64</td><td>f64</td><td>f64</td><td>f64</td><td>f64</td><td>f64</td><td>f64</td><td>f64</td><td>f64</td><td>f64</td><td>f64</td><td>f64</td><td>f64</td><td>f64</td><td>f64</td><td>f64</td><td>f64</td><td>&hellip;</td><td>f64</td><td>f64</td><td>f64</td><td>f64</td><td>f64</td><td>f64</td><td>f64</td><td>f64</td><td>f64</td><td>f64</td><td>f64</td><td>f64</td><td>f64</td><td>f64</td><td>f64</td><td>f64</td><td>f64</td><td>f64</td><td>f64</td><td>f64</td><td>f64</td><td>f64</td><td>f64</td><td>f64</td><td>f64</td><td>f64</td><td>f64</td><td>f64</td><td>f64</td><td>f64</td><td>f64</td><td>f64</td><td>f64</td><td>f64</td><td>f64</td><td>f64</td><td>f64</td></tr></thead><tbody><tr><td>&quot;Albania&quot;</td><td>2020</td><td>415516.0</td><td>2.15834e6</td><td>1.431078e6</td><td>415516.0</td><td>408.0</td><td>18.5</td><td>1388.0</td><td>221.0</td><td>120.0</td><td>639.0</td><td>null</td><td>null</td><td>null</td><td>1388.0</td><td>1396.0</td><td>105.0</td><td>97.0</td><td>1258.0</td><td>70.0</td><td>306.0</td><td>348.0</td><td>382.0</td><td>42.0</td><td>1.0</td><td>309.0</td><td>457.0</td><td>235.0</td><td>341.0</td><td>355.0</td><td>12.0</td><td>null</td><td>768.0</td><td>596.0</td><td>12.0</td><td>null</td><td>&hellip;</td><td>null</td><td>null</td><td>8.645533</td><td>38.0</td><td>60.833333</td><td>3.537134</td><td>8.313759</td><td>7.275</td><td>4.23719</td><td>2.094305</td><td>27.998207</td><td>48.076073</td><td>46.87741</td><td>38.661143</td><td>null</td><td>93.551334</td><td>96.848659</td><td>96.469441</td><td>96.083429</td><td>100.0</td><td>100.0</td><td>100.0</td><td>0.0</td><td>0.0</td><td>100.0</td><td>0.0</td><td>0.0</td><td>0.0</td><td>0.0</td><td>100.0</td><td>0.0</td><td>0.0</td><td>0.0</td><td>0.0</td><td>100.0</td><td>0.0</td><td>0.0</td></tr><tr><td>&quot;Angola&quot;</td><td>2020</td><td>null</td><td>4.9949442e7</td><td>null</td><td>null</td><td>null</td><td>38.0</td><td>2373.0</td><td>18.0</td><td>null</td><td>227.0</td><td>null</td><td>null</td><td>null</td><td>4016.0</td><td>3816.0</td><td>71.0</td><td>271.0</td><td>138.0</td><td>2154.0</td><td>1934.0</td><td>657.0</td><td>1081.0</td><td>66.0</td><td>2.0</td><td>276.0</td><td>495.0</td><td>1267.0</td><td>1057.0</td><td>1197.0</td><td>20.0</td><td>null</td><td>2163.0</td><td>1853.0</td><td>67.0</td><td>null</td><td>&hellip;</td><td>null</td><td>null</td><td>4.129794</td><td>59.8</td><td>23.469388</td><td>0.764397</td><td>null</td><td>4.357143</td><td>2.435832</td><td>0.985165</td><td>94.197524</td><td>72.069779</td><td>null</td><td>0.0</td><td>0.0</td><td>11.533986</td><td>null</td><td>72.305908</td><td>null</td><td>null</td><td>null</td><td>null</td><td>null</td><td>null</td><td>null</td><td>null</td><td>null</td><td>null</td><td>null</td><td>null</td><td>null</td><td>null</td><td>null</td><td>null</td><td>null</td><td>null</td><td>null</td></tr><tr><td>&quot;Antigua and Barbuda&quot;</td><td>2020</td><td>259.0</td><td>8338.0</td><td>6438.0</td><td>470.0</td><td>60.0</td><td>2.0</td><td>130.0</td><td>22.0</td><td>5.0</td><td>43.0</td><td>null</td><td>null</td><td>null</td><td>130.0</td><td>129.0</td><td>1.0</td><td>2.0</td><td>10.0</td><td>49.0</td><td>40.0</td><td>42.0</td><td>35.0</td><td>6.0</td><td>0.0</td><td>7.0</td><td>42.0</td><td>13.0</td><td>40.0</td><td>35.0</td><td>0.0</td><td>0.0</td><td>32.0</td><td>98.0</td><td>4.0</td><td>0.0</td><td>&hellip;</td><td>null</td><td>null</td><td>null</td><td>null</td><td>null</td><td>null</td><td>null</td><td>null</td><td>11.738678</td><td>9.454906</td><td>15.000459</td><td>9.986772</td><td>null</td><td>9.128145</td><td>null</td><td>13.300928</td><td>19.788177</td><td>41.738139</td><td>null</td><td>0.0</td><td>0.0</td><td>0.0</td><td>100.0</td><td>0.0</td><td>0.0</td><td>0.0</td><td>0.0</td><td>100.0</td><td>0.0</td><td>0.0</td><td>0.0</td><td>0.0</td><td>100.0</td><td>0.0</td><td>0.0</td><td>0.0</td><td>0.0</td></tr><tr><td>&quot;Argentina&quot;</td><td>2020</td><td>83926.0</td><td>7.2425379e7</td><td>6.8560084e7</td><td>413395.0</td><td>5525.0</td><td>17.0</td><td>15059.0</td><td>1751.0</td><td>2263.0</td><td>5520.0</td><td>null</td><td>null</td><td>null</td><td>21592.0</td><td>21961.0</td><td>486.0</td><td>117.0</td><td>968.0</td><td>11717.0</td><td>4728.0</td><td>7387.0</td><td>2321.0</td><td>349.0</td><td>748.0</td><td>6059.0</td><td>10754.0</td><td>2109.0</td><td>1904.0</td><td>6825.0</td><td>43.0</td><td>0.0</td><td>11733.0</td><td>9859.0</td><td>81.0</td><td>0.0</td><td>&hellip;</td><td>null</td><td>null</td><td>3.114417</td><td>45.4</td><td>46.908316</td><td>0.207069</td><td>6.148529</td><td>1.712154</td><td>18.604407</td><td>7.868466</td><td>22.522775</td><td>16.100223</td><td>null</td><td>38.975057</td><td>83.774871</td><td>29.143315</td><td>52.505148</td><td>78.718633</td><td>85.773053</td><td>100.0</td><td>100.0</td><td>100.0</td><td>0.0</td><td>0.0</td><td>100.0</td><td>0.0</td><td>0.0</td><td>0.0</td><td>0.0</td><td>100.0</td><td>0.0</td><td>0.0</td><td>0.0</td><td>0.0</td><td>99.30515</td><td>0.69485</td><td>0.0</td></tr><tr><td>&quot;Armenia&quot;</td><td>2020</td><td>117526.0</td><td>1.6251629e7</td><td>8.649685e6</td><td>13232.0</td><td>290.0</td><td>100.0</td><td>1394.0</td><td>268.0</td><td>133.0</td><td>703.0</td><td>null</td><td>null</td><td>null</td><td>2964.0</td><td>2952.0</td><td>462.0</td><td>474.0</td><td>2628.0</td><td>336.0</td><td>670.0</td><td>637.0</td><td>1030.0</td><td>190.0</td><td>25.0</td><td>412.0</td><td>457.0</td><td>1557.0</td><td>354.0</td><td>596.0</td><td>55.0</td><td>0.0</td><td>1863.0</td><td>1101.0</td><td>170.0</td><td>0.0</td><td>&hellip;</td><td>null</td><td>null</td><td>5.667145</td><td>70.0</td><td>64.556962</td><td>5.089883</td><td>22.64293</td><td>24.443038</td><td>62.942966</td><td>24.97005</td><td>0.634396</td><td>40.562136</td><td>40.18612</td><td>42.180044</td><td>null</td><td>94.775632</td><td>19.919869</td><td>94.407455</td><td>95.779809</td><td>100.0</td><td>100.0</td><td>100.0</td><td>0.0</td><td>0.0</td><td>100.0</td><td>0.0</td><td>0.0</td><td>0.0</td><td>0.0</td><td>100.0</td><td>0.0</td><td>0.0</td><td>0.0</td><td>0.0</td><td>100.0</td><td>0.0</td><td>0.0</td></tr><tr><td>&hellip;</td><td>&hellip;</td><td>&hellip;</td><td>&hellip;</td><td>&hellip;</td><td>&hellip;</td><td>&hellip;</td><td>&hellip;</td><td>&hellip;</td><td>&hellip;</td><td>&hellip;</td><td>&hellip;</td><td>&hellip;</td><td>&hellip;</td><td>&hellip;</td><td>&hellip;</td><td>&hellip;</td><td>&hellip;</td><td>&hellip;</td><td>&hellip;</td><td>&hellip;</td><td>&hellip;</td><td>&hellip;</td><td>&hellip;</td><td>&hellip;</td><td>&hellip;</td><td>&hellip;</td><td>&hellip;</td><td>&hellip;</td><td>&hellip;</td><td>&hellip;</td><td>&hellip;</td><td>&hellip;</td><td>&hellip;</td><td>&hellip;</td><td>&hellip;</td><td>&hellip;</td><td>&hellip;</td><td>&hellip;</td><td>&hellip;</td><td>&hellip;</td><td>&hellip;</td><td>&hellip;</td><td>&hellip;</td><td>&hellip;</td><td>&hellip;</td><td>&hellip;</td><td>&hellip;</td><td>&hellip;</td><td>&hellip;</td><td>&hellip;</td><td>&hellip;</td><td>&hellip;</td><td>&hellip;</td><td>&hellip;</td><td>&hellip;</td><td>&hellip;</td><td>&hellip;</td><td>&hellip;</td><td>&hellip;</td><td>&hellip;</td><td>&hellip;</td><td>&hellip;</td><td>&hellip;</td><td>&hellip;</td><td>&hellip;</td><td>&hellip;</td><td>&hellip;</td><td>&hellip;</td><td>&hellip;</td><td>&hellip;</td><td>&hellip;</td><td>&hellip;</td><td>&hellip;</td><td>&hellip;</td></tr><tr><td>&quot;Zimbabwe&quot;</td><td>2020</td><td>441147.0</td><td>5.471587e6</td><td>2.76338e6</td><td>102323.0</td><td>2542.0</td><td>9.25</td><td>2596.0</td><td>8.0</td><td>4.0</td><td>42.0</td><td>null</td><td>null</td><td>null</td><td>2682.0</td><td>2509.0</td><td>103.0</td><td>276.0</td><td>411.0</td><td>1997.0</td><td>798.0</td><td>630.0</td><td>1040.0</td><td>4.0</td><td>13.0</td><td>197.0</td><td>0.0</td><td>670.0</td><td>1261.0</td><td>751.0</td><td>null</td><td>null</td><td>null</td><td>null</td><td>null</td><td>null</td><td>&hellip;</td><td>null</td><td>null</td><td>4.237288</td><td>80.0</td><td>34.545455</td><td>1.911599</td><td>null</td><td>6.463636</td><td>0.0002</td><td>0.000094</td><td>99.620493</td><td>81.013298</td><td>75.092809</td><td>61.03243</td><td>null</td><td>99.954294</td><td>64.285714</td><td>31.517265</td><td>24.732562</td><td>85.101589</td><td>84.098062</td><td>85.00046</td><td>14.898411</td><td>0.0</td><td>85.101589</td><td>0.0</td><td>0.0</td><td>15.901938</td><td>0.0</td><td>84.098062</td><td>0.0</td><td>0.0</td><td>14.99954</td><td>0.0</td><td>85.00046</td><td>0.0</td><td>0.0</td></tr><tr><td>&quot;Cook Islands&quot;</td><td>2020</td><td>null</td><td>1114.0</td><td>958.0</td><td>18.0</td><td>2.0</td><td>10.0</td><td>31.0</td><td>5.0</td><td>7.0</td><td>17.0</td><td>null</td><td>null</td><td>null</td><td>28.0</td><td>24.0</td><td>1.0</td><td>5.0</td><td>1.0</td><td>3.0</td><td>4.0</td><td>4.0</td><td>10.0</td><td>6.0</td><td>2.0</td><td>2.0</td><td>2.0</td><td>18.0</td><td>4.0</td><td>4.0</td><td>1.0</td><td>0.0</td><td>8.0</td><td>20.0</td><td>5.0</td><td>0.0</td><td>&hellip;</td><td>null</td><td>null</td><td>16.129032</td><td>null</td><td>100.0</td><td>7.604563</td><td>null</td><td>8.0</td><td>57.070143</td><td>30.090986</td><td>81.124251</td><td>75.893676</td><td>41.155989</td><td>40.496368</td><td>null</td><td>null</td><td>14.950316</td><td>42.968119</td><td>40.825209</td><td>24.870466</td><td>21.230599</td><td>58.294133</td><td>75.129534</td><td>0.0</td><td>24.870466</td><td>0.0</td><td>0.0</td><td>78.769401</td><td>0.0</td><td>21.230599</td><td>0.0</td><td>0.0</td><td>41.705867</td><td>0.0</td><td>58.294133</td><td>0.0</td><td>0.0</td></tr><tr><td>&quot;Montserrat&quot;</td><td>2020</td><td>null</td><td>2025.0</td><td>1162.0</td><td>null</td><td>20.0</td><td>0.16</td><td>41.0</td><td>11.0</td><td>4.0</td><td>6.0</td><td>null</td><td>null</td><td>null</td><td>43.0</td><td>38.0</td><td>1.0</td><td>6.0</td><td>1.0</td><td>8.0</td><td>15.0</td><td>6.0</td><td>11.0</td><td>7.0</td><td>0.0</td><td>4.0</td><td>7.0</td><td>12.0</td><td>12.0</td><td>12.0</td><td>4.0</td><td>0.0</td><td>22.0</td><td>21.0</td><td>4.0</td><td>0.0</td><td>&hellip;</td><td>null</td><td>null</td><td>null</td><td>null</td><td>null</td><td>null</td><td>null</td><td>null</td><td>144.016563</td><td>79.171409</td><td>3.119777</td><td>13.584906</td><td>22.443182</td><td>null</td><td>null</td><td>0.0</td><td>6.462396</td><td>null</td><td>0.0</td><td>0.0</td><td>0.0</td><td>null</td><td>100.0</td><td>0.0</td><td>0.0</td><td>0.0</td><td>0.0</td><td>100.0</td><td>0.0</td><td>0.0</td><td>0.0</td><td>0.0</td><td>null</td><td>null</td><td>null</td><td>null</td><td>null</td></tr><tr><td>&quot;Uganda&quot;</td><td>2020</td><td>null</td><td>4.3936433e7</td><td>2.5098723e7</td><td>1.003397e6</td><td>322.0</td><td>63.84</td><td>1140.0</td><td>425.0</td><td>45.0</td><td>348.0</td><td>null</td><td>null</td><td>null</td><td>2359.0</td><td>2432.0</td><td>153.0</td><td>80.0</td><td>313.0</td><td>1172.0</td><td>1001.0</td><td>627.0</td><td>711.0</td><td>4.0</td><td>0.0</td><td>16.0</td><td>429.0</td><td>414.0</td><td>845.0</td><td>671.0</td><td>11.0</td><td>0.0</td><td>1402.0</td><td>957.0</td><td>14.0</td><td>0.0</td><td>&hellip;</td><td>null</td><td>null</td><td>7.192982</td><td>63.5</td><td>51.219512</td><td>0.897206</td><td>18.606406</td><td>10.512195</td><td>2.692709</td><td>0.972191</td><td>63.08346</td><td>9.452811</td><td>13.88632</td><td>10.821367</td><td>6.875</td><td>32.647012</td><td>2.933701</td><td>75.377702</td><td>62.024123</td><td>100.0</td><td>100.0</td><td>100.0</td><td>0.0</td><td>0.0</td><td>100.0</td><td>0.0</td><td>0.0</td><td>0.0</td><td>0.0</td><td>100.0</td><td>0.0</td><td>0.0</td><td>0.0</td><td>0.0</td><td>100.0</td><td>0.0</td><td>0.0</td></tr><tr><td>&quot;Kazakhstan&quot;</td><td>2020</td><td>null</td><td>null</td><td>null</td><td>null</td><td>-2673.0</td><td>34.0</td><td>null</td><td>963.0</td><td>725.0</td><td>985.0</td><td>null</td><td>null</td><td>null</td><td>12391.0</td><td>11703.0</td><td>1655.0</td><td>2343.0</td><td>584.0</td><td>10327.0</td><td>3762.0</td><td>2906.0</td><td>3351.0</td><td>153.0</td><td>0.0</td><td>2219.0</td><td>3134.0</td><td>2914.0</td><td>2145.0</td><td>4198.0</td><td>4576.0</td><td>0.0</td><td>6282.0</td><td>6109.0</td><td>4338.0</td><td>0.0</td><td>&hellip;</td><td>null</td><td>null</td><td>null</td><td>99.99</td><td>26.315789</td><td>0.076101</td><td>336.648079</td><td>5.894737</td><td>0.0</td><td>0.0</td><td>100.0</td><td>8.13112</td><td>null</td><td>100.0</td><td>11.133359</td><td>null</td><td>null</td><td>null</td><td>null</td><td>null</td><td>null</td><td>null</td><td>null</td><td>null</td><td>null</td><td>null</td><td>null</td><td>null</td><td>null</td><td>null</td><td>null</td><td>null</td><td>null</td><td>null</td><td>null</td><td>null</td><td>null</td></tr></tbody></table></div>"
      ],
      "text/plain": [
       "shape: (153, 86)\n",
       "┌─────────────┬──────┬─────────────┬────────────┬───┬────────────┬────────────┬────────────┬───────┐\n",
       "│ country     ┆ year ┆ Capital     ┆ Operating  ┆ … ┆ Electronic ┆ Electronic ┆ Electronic ┆ Other │\n",
       "│ ---         ┆ ---  ┆ expenditure ┆ expenditur ┆   ┆ - fully    ┆ -not       ┆ - fully    ┆ ---   │\n",
       "│ str         ┆ i64  ┆ - Derived   ┆ e -        ┆   ┆ pre-filled ┆ pre-filled ┆ pre-filled ┆ f64   │\n",
       "│             ┆      ┆ ---         ┆ Derive…    ┆   ┆ …          ┆ or …       ┆ …          ┆       │\n",
       "│             ┆      ┆ f64         ┆ ---        ┆   ┆ ---        ┆ ---        ┆ ---        ┆       │\n",
       "│             ┆      ┆             ┆ f64        ┆   ┆ f64        ┆ f64        ┆ f64        ┆       │\n",
       "╞═════════════╪══════╪═════════════╪════════════╪═══╪════════════╪════════════╪════════════╪═══════╡\n",
       "│ Albania     ┆ 2020 ┆ 415516.0    ┆ 2.15834e6  ┆ … ┆ 0.0        ┆ 100.0      ┆ 0.0        ┆ 0.0   │\n",
       "│ Angola      ┆ 2020 ┆ null        ┆ 4.9949442e ┆ … ┆ null       ┆ null       ┆ null       ┆ null  │\n",
       "│             ┆      ┆             ┆ 7          ┆   ┆            ┆            ┆            ┆       │\n",
       "│ Antigua and ┆ 2020 ┆ 259.0       ┆ 8338.0     ┆ … ┆ 0.0        ┆ 0.0        ┆ 0.0        ┆ 0.0   │\n",
       "│ Barbuda     ┆      ┆             ┆            ┆   ┆            ┆            ┆            ┆       │\n",
       "│ Argentina   ┆ 2020 ┆ 83926.0     ┆ 7.2425379e ┆ … ┆ 0.0        ┆ 99.30515   ┆ 0.69485    ┆ 0.0   │\n",
       "│             ┆      ┆             ┆ 7          ┆   ┆            ┆            ┆            ┆       │\n",
       "│ Armenia     ┆ 2020 ┆ 117526.0    ┆ 1.6251629e ┆ … ┆ 0.0        ┆ 100.0      ┆ 0.0        ┆ 0.0   │\n",
       "│             ┆      ┆             ┆ 7          ┆   ┆            ┆            ┆            ┆       │\n",
       "│ …           ┆ …    ┆ …           ┆ …          ┆ … ┆ …          ┆ …          ┆ …          ┆ …     │\n",
       "│ Zimbabwe    ┆ 2020 ┆ 441147.0    ┆ 5.471587e6 ┆ … ┆ 0.0        ┆ 85.00046   ┆ 0.0        ┆ 0.0   │\n",
       "│ Cook        ┆ 2020 ┆ null        ┆ 1114.0     ┆ … ┆ 0.0        ┆ 58.294133  ┆ 0.0        ┆ 0.0   │\n",
       "│ Islands     ┆      ┆             ┆            ┆   ┆            ┆            ┆            ┆       │\n",
       "│ Montserrat  ┆ 2020 ┆ null        ┆ 2025.0     ┆ … ┆ null       ┆ null       ┆ null       ┆ null  │\n",
       "│ Uganda      ┆ 2020 ┆ null        ┆ 4.3936433e ┆ … ┆ 0.0        ┆ 100.0      ┆ 0.0        ┆ 0.0   │\n",
       "│             ┆      ┆             ┆ 7          ┆   ┆            ┆            ┆            ┆       │\n",
       "│ Kazakhstan  ┆ 2020 ┆ null        ┆ null       ┆ … ┆ null       ┆ null       ┆ null       ┆ null  │\n",
       "└─────────────┴──────┴─────────────┴────────────┴───┴────────────┴────────────┴────────────┴───────┘"
      ]
     },
     "execution_count": 11,
     "metadata": {},
     "output_type": "execute_result"
    }
   ],
   "source": [
    "nx.filter_pivot(\n",
    "    nexus.filter(\n",
    "        (pl.col(\"source\") == \"ISORA\") & \n",
    "        (pl.col(\"year\") == 2020) \n",
    "    ),\n",
    "    index_cols=INDEX_COLS,\n",
    "    ind='label'\n",
    ")"
   ]
  },
  {
   "cell_type": "markdown",
   "id": "a1116191",
   "metadata": {},
   "source": [
    "filter for specific countries"
   ]
  },
  {
   "cell_type": "code",
   "execution_count": 12,
   "id": "ab69246b",
   "metadata": {},
   "outputs": [
    {
     "data": {
      "text/html": [
       "<div><style>\n",
       ".dataframe > thead > tr,\n",
       ".dataframe > tbody > tr {\n",
       "  text-align: right;\n",
       "  white-space: pre-wrap;\n",
       "}\n",
       "</style>\n",
       "<small>shape: (3_242, 291)</small><table border=\"1\" class=\"dataframe\"><thead><tr><th>country</th><th>year</th><th>WB.PEFA.PI-2011-01</th><th>WB.PEFA.PI-2011-02</th><th>WB.PEFA.PI-2011-02i</th><th>WB.PEFA.PI-2011-03</th><th>WB.PEFA.PI-2011-04</th><th>WB.PEFA.PI-2011-04i</th><th>WB.PEFA.PI-2011-04ii</th><th>WB.PEFA.PI-2011-05</th><th>WB.PEFA.PI-2011-06</th><th>WB.PEFA.PI-2011-07</th><th>WB.PEFA.PI-2011-07i</th><th>WB.PEFA.PI-2011-07ii</th><th>WB.PEFA.PI-2011-08</th><th>WB.PEFA.PI-2011-08i</th><th>WB.PEFA.PI-2011-08ii</th><th>WB.PEFA.PI-2011-08iii</th><th>WB.PEFA.PI-2011-09</th><th>WB.PEFA.PI-2011-09i</th><th>WB.PEFA.PI-2011-09ii</th><th>WB.PEFA.PI-2011-10</th><th>WB.PEFA.PI-2011-11</th><th>WB.PEFA.PI-2011-11i</th><th>WB.PEFA.PI-2011-11ii</th><th>WB.PEFA.PI-2011-11iii</th><th>WB.PEFA.PI-2011-12</th><th>WB.PEFA.PI-2011-12i</th><th>WB.PEFA.PI-2011-12ii</th><th>WB.PEFA.PI-2011-12iii</th><th>WB.PEFA.PI-2011-12iv</th><th>WB.PEFA.PI-2011-13</th><th>WB.PEFA.PI-2011-13i</th><th>WB.PEFA.PI-2011-13ii</th><th>WB.PEFA.PI-2011-13iii</th><th>WB.PEFA.PI-2011-14</th><th>WB.PEFA.PI-2011-14i</th><th>&hellip;</th><th>rLabor</th><th>rLaborAll</th><th>rIndTax</th><th>mTaxes</th><th>mIT</th><th>mPIT</th><th>mCIT</th><th>mVAT</th><th>mExcise</th><th>mTrade</th><th>mProperty</th><th>mSC</th><th>tVAT</th><th>tExcise</th><th>tPIT</th><th>tCIT</th><th>tProperty</th><th>FX.OWN.TOTL.OL.ZS</th><th>FX.OWN.TOTL.YG.ZS</th><th>FB.BNK.CAPA.ZS</th><th>FD.RES.LIQU.AS.ZS</th><th>CC.EST</th><th>IQ.CPA.PUBS.XQ</th><th>IQ.CPA.PADM.XQ</th><th>DT.DOD.DSTC.CD</th><th>NY.GDP.MKTP.CD</th><th>BN.RES.INCL.CD</th><th>GC.TAX.TOTL.GD.ZS</th><th>DT.NFL.BOND.CD</th><th>CM.MKT.LCAP.CD</th><th>FS.AST.DOMS.GD.ZS</th><th>cc</th><th>ge</th><th>pv</th><th>rl</th><th>rq</th><th>va</th></tr><tr><td>str</td><td>i64</td><td>f64</td><td>f64</td><td>f64</td><td>f64</td><td>f64</td><td>f64</td><td>f64</td><td>f64</td><td>f64</td><td>f64</td><td>f64</td><td>f64</td><td>f64</td><td>f64</td><td>f64</td><td>f64</td><td>f64</td><td>f64</td><td>f64</td><td>f64</td><td>f64</td><td>f64</td><td>f64</td><td>f64</td><td>f64</td><td>f64</td><td>f64</td><td>f64</td><td>f64</td><td>f64</td><td>f64</td><td>f64</td><td>f64</td><td>f64</td><td>f64</td><td>&hellip;</td><td>f64</td><td>f64</td><td>f64</td><td>f64</td><td>f64</td><td>f64</td><td>f64</td><td>f64</td><td>f64</td><td>f64</td><td>f64</td><td>f64</td><td>f64</td><td>f64</td><td>f64</td><td>f64</td><td>f64</td><td>f64</td><td>f64</td><td>f64</td><td>f64</td><td>f64</td><td>f64</td><td>f64</td><td>f64</td><td>f64</td><td>f64</td><td>f64</td><td>f64</td><td>f64</td><td>f64</td><td>f64</td><td>f64</td><td>f64</td><td>f64</td><td>f64</td><td>f64</td></tr></thead><tbody><tr><td>&quot;Zambia&quot;</td><td>2005</td><td>2.0</td><td>1.0</td><td>1.0</td><td>4.0</td><td>1.5</td><td>1.0</td><td>3.0</td><td>2.0</td><td>3.0</td><td>1.5</td><td>1.0</td><td>2.0</td><td>1.5</td><td>2.0</td><td>1.0</td><td>2.0</td><td>2.0</td><td>2.0</td><td>2.0</td><td>3.0</td><td>3.0</td><td>3.0</td><td>4.0</td><td>1.0</td><td>2.5</td><td>2.0</td><td>4.0</td><td>2.0</td><td>2.0</td><td>3.0</td><td>3.0</td><td>3.0</td><td>3.0</td><td>2.5</td><td>2.0</td><td>&hellip;</td><td>null</td><td>null</td><td>17.5</td><td>null</td><td>null</td><td>null</td><td>null</td><td>null</td><td>null</td><td>null</td><td>null</td><td>null</td><td>4.391048</td><td>2.06511</td><td>5.291844</td><td>1.204647</td><td>0.0</td><td>null</td><td>null</td><td>null</td><td>39.327075</td><td>-0.59244</td><td>3.2</td><td>3.0</td><td>2.34348e8</td><td>8.3319e9</td><td>-2.0862e9</td><td>14.794769</td><td>null</td><td>2.5167e9</td><td>null</td><td>-0.59244</td><td>-0.936883</td><td>0.108463</td><td>-0.517538</td><td>-0.742619</td><td>-0.430346</td></tr><tr><td>&quot;Gabon&quot;</td><td>2006</td><td>3.0</td><td>1.0</td><td>1.0</td><td>3.0</td><td>2.0</td><td>null</td><td>null</td><td>2.0</td><td>2.0</td><td>2.0</td><td>null</td><td>null</td><td>2.0</td><td>null</td><td>null</td><td>null</td><td>null</td><td>null</td><td>null</td><td>2.0</td><td>2.0</td><td>null</td><td>null</td><td>null</td><td>1.0</td><td>null</td><td>null</td><td>null</td><td>null</td><td>null</td><td>null</td><td>null</td><td>null</td><td>null</td><td>null</td><td>&hellip;</td><td>null</td><td>null</td><td>null</td><td>null</td><td>null</td><td>null</td><td>null</td><td>null</td><td>null</td><td>null</td><td>null</td><td>null</td><td>1.476613</td><td>null</td><td>null</td><td>null</td><td>null</td><td>null</td><td>null</td><td>null</td><td>25.542581</td><td>-1.083068</td><td>null</td><td>null</td><td>4.2727e8</td><td>1.0328e10</td><td>null</td><td>null</td><td>null</td><td>null</td><td>null</td><td>-1.083068</td><td>-0.835813</td><td>0.220006</td><td>-0.754506</td><td>-0.301131</td><td>-0.950213</td></tr><tr><td>&quot;Ghana&quot;</td><td>2006</td><td>3.0</td><td>1.0</td><td>1.0</td><td>4.0</td><td>3.5</td><td>4.0</td><td>3.0</td><td>3.0</td><td>2.0</td><td>4.0</td><td>4.0</td><td>4.0</td><td>2.0</td><td>4.0</td><td>1.0</td><td>1.0</td><td>2.0</td><td>2.0</td><td>2.0</td><td>3.0</td><td>3.0</td><td>4.0</td><td>3.0</td><td>1.0</td><td>2.0</td><td>2.0</td><td>2.0</td><td>2.0</td><td>2.0</td><td>3.0</td><td>3.0</td><td>2.0</td><td>3.0</td><td>2.0</td><td>2.0</td><td>&hellip;</td><td>null</td><td>null</td><td>null</td><td>null</td><td>null</td><td>null</td><td>null</td><td>null</td><td>null</td><td>null</td><td>null</td><td>null</td><td>2.744267</td><td>1.806188</td><td>1.310023</td><td>1.138426</td><td>null</td><td>null</td><td>null</td><td>null</td><td>19.761361</td><td>-0.014182</td><td>3.9</td><td>3.5</td><td>1.1817e9</td><td>2.0885e10</td><td>4.1845e8</td><td>12.534619</td><td>null</td><td>7.6e8</td><td>null</td><td>-0.014182</td><td>0.027578</td><td>0.006396</td><td>0.056497</td><td>-0.107714</td><td>0.407593</td></tr><tr><td>&quot;Guinea-Bissau&quot;</td><td>2006</td><td>1.0</td><td>1.0</td><td>1.0</td><td>2.0</td><td>1.0</td><td>null</td><td>null</td><td>2.0</td><td>2.0</td><td>2.0</td><td>null</td><td>null</td><td>null</td><td>null</td><td>null</td><td>null</td><td>1.0</td><td>null</td><td>null</td><td>1.0</td><td>2.5</td><td>null</td><td>null</td><td>null</td><td>1.5</td><td>null</td><td>null</td><td>null</td><td>null</td><td>2.0</td><td>null</td><td>null</td><td>null</td><td>1.5</td><td>null</td><td>&hellip;</td><td>null</td><td>null</td><td>null</td><td>null</td><td>null</td><td>null</td><td>null</td><td>null</td><td>null</td><td>null</td><td>null</td><td>null</td><td>null</td><td>null</td><td>null</td><td>null</td><td>null</td><td>null</td><td>null</td><td>null</td><td>27.529274</td><td>-1.095483</td><td>2.6</td><td>2.5</td><td>1.2630e8</td><td>6.3478e8</td><td>-5.5728e7</td><td>null</td><td>null</td><td>null</td><td>null</td><td>-1.095483</td><td>-1.131372</td><td>-0.494073</td><td>-1.256102</td><td>-0.980062</td><td>-0.628868</td></tr><tr><td>&quot;Kenya&quot;</td><td>2006</td><td>2.0</td><td>4.0</td><td>4.0</td><td>2.0</td><td>3.0</td><td>3.0</td><td>3.0</td><td>2.0</td><td>3.0</td><td>2.0</td><td>2.0</td><td>2.0</td><td>3.0</td><td>4.0</td><td>4.0</td><td>1.0</td><td>2.5</td><td>2.0</td><td>4.0</td><td>3.0</td><td>3.0</td><td>4.0</td><td>4.0</td><td>1.0</td><td>2.0</td><td>2.0</td><td>2.0</td><td>3.0</td><td>1.0</td><td>3.0</td><td>3.0</td><td>3.0</td><td>3.0</td><td>2.5</td><td>2.0</td><td>&hellip;</td><td>null</td><td>null</td><td>null</td><td>null</td><td>null</td><td>null</td><td>null</td><td>null</td><td>null</td><td>null</td><td>null</td><td>null</td><td>2.660621</td><td>1.549297</td><td>2.008959</td><td>1.798354</td><td>0.000352</td><td>null</td><td>null</td><td>10.693964</td><td>10.066889</td><td>-0.935451</td><td>3.4</td><td>3.5</td><td>5.8989e8</td><td>2.5826e10</td><td>5.8130e8</td><td>null</td><td>null</td><td>1.1378e10</td><td>null</td><td>-0.935451</td><td>-0.65546</td><td>-1.126983</td><td>-0.882365</td><td>-0.239397</td><td>-0.130347</td></tr><tr><td>&hellip;</td><td>&hellip;</td><td>&hellip;</td><td>&hellip;</td><td>&hellip;</td><td>&hellip;</td><td>&hellip;</td><td>&hellip;</td><td>&hellip;</td><td>&hellip;</td><td>&hellip;</td><td>&hellip;</td><td>&hellip;</td><td>&hellip;</td><td>&hellip;</td><td>&hellip;</td><td>&hellip;</td><td>&hellip;</td><td>&hellip;</td><td>&hellip;</td><td>&hellip;</td><td>&hellip;</td><td>&hellip;</td><td>&hellip;</td><td>&hellip;</td><td>&hellip;</td><td>&hellip;</td><td>&hellip;</td><td>&hellip;</td><td>&hellip;</td><td>&hellip;</td><td>&hellip;</td><td>&hellip;</td><td>&hellip;</td><td>&hellip;</td><td>&hellip;</td><td>&hellip;</td><td>&hellip;</td><td>&hellip;</td><td>&hellip;</td><td>&hellip;</td><td>&hellip;</td><td>&hellip;</td><td>&hellip;</td><td>&hellip;</td><td>&hellip;</td><td>&hellip;</td><td>&hellip;</td><td>&hellip;</td><td>&hellip;</td><td>&hellip;</td><td>&hellip;</td><td>&hellip;</td><td>&hellip;</td><td>&hellip;</td><td>&hellip;</td><td>&hellip;</td><td>&hellip;</td><td>&hellip;</td><td>&hellip;</td><td>&hellip;</td><td>&hellip;</td><td>&hellip;</td><td>&hellip;</td><td>&hellip;</td><td>&hellip;</td><td>&hellip;</td><td>&hellip;</td><td>&hellip;</td><td>&hellip;</td><td>&hellip;</td><td>&hellip;</td><td>&hellip;</td><td>&hellip;</td><td>&hellip;</td></tr><tr><td>&quot;South Sudan&quot;</td><td>2003</td><td>null</td><td>null</td><td>null</td><td>null</td><td>null</td><td>null</td><td>null</td><td>null</td><td>null</td><td>null</td><td>null</td><td>null</td><td>null</td><td>null</td><td>null</td><td>null</td><td>null</td><td>null</td><td>null</td><td>null</td><td>null</td><td>null</td><td>null</td><td>null</td><td>null</td><td>null</td><td>null</td><td>null</td><td>null</td><td>null</td><td>null</td><td>null</td><td>null</td><td>null</td><td>null</td><td>&hellip;</td><td>null</td><td>null</td><td>null</td><td>null</td><td>null</td><td>null</td><td>null</td><td>null</td><td>null</td><td>null</td><td>null</td><td>null</td><td>null</td><td>null</td><td>null</td><td>null</td><td>null</td><td>null</td><td>null</td><td>null</td><td>null</td><td>null</td><td>null</td><td>null</td><td>null</td><td>null</td><td>null</td><td>null</td><td>null</td><td>null</td><td>null</td><td>null</td><td>null</td><td>null</td><td>null</td><td>null</td><td>null</td></tr><tr><td>&quot;South Sudan&quot;</td><td>2004</td><td>null</td><td>null</td><td>null</td><td>null</td><td>null</td><td>null</td><td>null</td><td>null</td><td>null</td><td>null</td><td>null</td><td>null</td><td>null</td><td>null</td><td>null</td><td>null</td><td>null</td><td>null</td><td>null</td><td>null</td><td>null</td><td>null</td><td>null</td><td>null</td><td>null</td><td>null</td><td>null</td><td>null</td><td>null</td><td>null</td><td>null</td><td>null</td><td>null</td><td>null</td><td>null</td><td>&hellip;</td><td>null</td><td>null</td><td>null</td><td>null</td><td>null</td><td>null</td><td>null</td><td>null</td><td>null</td><td>null</td><td>null</td><td>null</td><td>null</td><td>null</td><td>null</td><td>null</td><td>null</td><td>null</td><td>null</td><td>null</td><td>null</td><td>null</td><td>null</td><td>null</td><td>null</td><td>null</td><td>null</td><td>null</td><td>null</td><td>null</td><td>null</td><td>null</td><td>null</td><td>null</td><td>null</td><td>null</td><td>null</td></tr><tr><td>&quot;South Sudan&quot;</td><td>2005</td><td>null</td><td>null</td><td>null</td><td>null</td><td>null</td><td>null</td><td>null</td><td>null</td><td>null</td><td>null</td><td>null</td><td>null</td><td>null</td><td>null</td><td>null</td><td>null</td><td>null</td><td>null</td><td>null</td><td>null</td><td>null</td><td>null</td><td>null</td><td>null</td><td>null</td><td>null</td><td>null</td><td>null</td><td>null</td><td>null</td><td>null</td><td>null</td><td>null</td><td>null</td><td>null</td><td>&hellip;</td><td>null</td><td>null</td><td>null</td><td>null</td><td>null</td><td>null</td><td>null</td><td>null</td><td>null</td><td>null</td><td>null</td><td>null</td><td>null</td><td>null</td><td>null</td><td>null</td><td>null</td><td>null</td><td>null</td><td>null</td><td>null</td><td>null</td><td>null</td><td>null</td><td>null</td><td>null</td><td>null</td><td>null</td><td>null</td><td>null</td><td>null</td><td>null</td><td>null</td><td>null</td><td>null</td><td>null</td><td>null</td></tr><tr><td>&quot;South Sudan&quot;</td><td>2006</td><td>null</td><td>null</td><td>null</td><td>null</td><td>null</td><td>null</td><td>null</td><td>null</td><td>null</td><td>null</td><td>null</td><td>null</td><td>null</td><td>null</td><td>null</td><td>null</td><td>null</td><td>null</td><td>null</td><td>null</td><td>null</td><td>null</td><td>null</td><td>null</td><td>null</td><td>null</td><td>null</td><td>null</td><td>null</td><td>null</td><td>null</td><td>null</td><td>null</td><td>null</td><td>null</td><td>&hellip;</td><td>null</td><td>null</td><td>null</td><td>null</td><td>null</td><td>null</td><td>null</td><td>null</td><td>null</td><td>null</td><td>null</td><td>null</td><td>null</td><td>null</td><td>null</td><td>null</td><td>null</td><td>null</td><td>null</td><td>null</td><td>null</td><td>null</td><td>null</td><td>null</td><td>null</td><td>null</td><td>null</td><td>null</td><td>null</td><td>null</td><td>null</td><td>null</td><td>null</td><td>null</td><td>null</td><td>null</td><td>null</td></tr><tr><td>&quot;South Sudan&quot;</td><td>2007</td><td>null</td><td>null</td><td>null</td><td>null</td><td>null</td><td>null</td><td>null</td><td>null</td><td>null</td><td>null</td><td>null</td><td>null</td><td>null</td><td>null</td><td>null</td><td>null</td><td>null</td><td>null</td><td>null</td><td>null</td><td>null</td><td>null</td><td>null</td><td>null</td><td>null</td><td>null</td><td>null</td><td>null</td><td>null</td><td>null</td><td>null</td><td>null</td><td>null</td><td>null</td><td>null</td><td>&hellip;</td><td>null</td><td>null</td><td>null</td><td>null</td><td>null</td><td>null</td><td>null</td><td>null</td><td>null</td><td>null</td><td>null</td><td>null</td><td>null</td><td>null</td><td>null</td><td>null</td><td>null</td><td>null</td><td>null</td><td>null</td><td>null</td><td>null</td><td>null</td><td>null</td><td>null</td><td>null</td><td>null</td><td>null</td><td>null</td><td>null</td><td>null</td><td>null</td><td>null</td><td>null</td><td>null</td><td>null</td><td>null</td></tr></tbody></table></div>"
      ],
      "text/plain": [
       "shape: (3_242, 291)\n",
       "┌─────────────┬──────┬────────────┬────────────┬───┬───────────┬───────────┬───────────┬───────────┐\n",
       "│ country     ┆ year ┆ WB.PEFA.PI ┆ WB.PEFA.PI ┆ … ┆ pv        ┆ rl        ┆ rq        ┆ va        │\n",
       "│ ---         ┆ ---  ┆ -2011-01   ┆ -2011-02   ┆   ┆ ---       ┆ ---       ┆ ---       ┆ ---       │\n",
       "│ str         ┆ i64  ┆ ---        ┆ ---        ┆   ┆ f64       ┆ f64       ┆ f64       ┆ f64       │\n",
       "│             ┆      ┆ f64        ┆ f64        ┆   ┆           ┆           ┆           ┆           │\n",
       "╞═════════════╪══════╪════════════╪════════════╪═══╪═══════════╪═══════════╪═══════════╪═══════════╡\n",
       "│ Zambia      ┆ 2005 ┆ 2.0        ┆ 1.0        ┆ … ┆ 0.108463  ┆ -0.517538 ┆ -0.742619 ┆ -0.430346 │\n",
       "│ Gabon       ┆ 2006 ┆ 3.0        ┆ 1.0        ┆ … ┆ 0.220006  ┆ -0.754506 ┆ -0.301131 ┆ -0.950213 │\n",
       "│ Ghana       ┆ 2006 ┆ 3.0        ┆ 1.0        ┆ … ┆ 0.006396  ┆ 0.056497  ┆ -0.107714 ┆ 0.407593  │\n",
       "│ Guinea-Biss ┆ 2006 ┆ 1.0        ┆ 1.0        ┆ … ┆ -0.494073 ┆ -1.256102 ┆ -0.980062 ┆ -0.628868 │\n",
       "│ au          ┆      ┆            ┆            ┆   ┆           ┆           ┆           ┆           │\n",
       "│ Kenya       ┆ 2006 ┆ 2.0        ┆ 4.0        ┆ … ┆ -1.126983 ┆ -0.882365 ┆ -0.239397 ┆ -0.130347 │\n",
       "│ …           ┆ …    ┆ …          ┆ …          ┆ … ┆ …         ┆ …         ┆ …         ┆ …         │\n",
       "│ South Sudan ┆ 2003 ┆ null       ┆ null       ┆ … ┆ null      ┆ null      ┆ null      ┆ null      │\n",
       "│ South Sudan ┆ 2004 ┆ null       ┆ null       ┆ … ┆ null      ┆ null      ┆ null      ┆ null      │\n",
       "│ South Sudan ┆ 2005 ┆ null       ┆ null       ┆ … ┆ null      ┆ null      ┆ null      ┆ null      │\n",
       "│ South Sudan ┆ 2006 ┆ null       ┆ null       ┆ … ┆ null      ┆ null      ┆ null      ┆ null      │\n",
       "│ South Sudan ┆ 2007 ┆ null       ┆ null       ┆ … ┆ null      ┆ null      ┆ null      ┆ null      │\n",
       "└─────────────┴──────┴────────────┴────────────┴───┴───────────┴───────────┴───────────┴───────────┘"
      ]
     },
     "execution_count": 12,
     "metadata": {},
     "output_type": "execute_result"
    }
   ],
   "source": [
    "nx.filter_pivot(\n",
    "    nexus.filter(\n",
    "        (pl.col(\"source\") == \"World Bank\") & \n",
    "        (pl.col(\"region_name\") == \"Africa\")\n",
    "    ),\n",
    "    index_cols=INDEX_COLS,\n",
    "    ind='code'  # Use indicator codes instead of labels\n",
    ")"
   ]
  }
 ],
 "metadata": {
  "kernelspec": {
   "display_name": ".venv",
   "language": "python",
   "name": "python3"
  },
  "language_info": {
   "codemirror_mode": {
    "name": "ipython",
    "version": 3
   },
   "file_extension": ".py",
   "mimetype": "text/x-python",
   "name": "python",
   "nbconvert_exporter": "python",
   "pygments_lexer": "ipython3",
   "version": "3.13.5"
  }
 },
 "nbformat": 4,
 "nbformat_minor": 5
}
